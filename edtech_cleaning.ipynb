{
 "cells": [
  {
   "attachments": {},
   "cell_type": "markdown",
   "metadata": {},
   "source": [
    "# Edtech Data Preparation and Cleaning\n",
    "## Introduction\n",
    "A fictional EdTech company is focusing on accelerating its growth by increasing the number of enrolled users.\n",
    "\n",
    "Therefore, I was asked to analyze various aspects of customer acquisition to see the status of new users’ growth in your company. The dataset was obtained from [kaggle](https://www.kaggle.com/datasets/nxtwaveda/data-analyst).\n",
    "\n",
    "In this notebook I'll clean the dataset obtained from kaggle and save it so I can perform analysis.\n",
    "\n",
    "## Overview of the dataset\n",
    "The dataset contains 5 CSV files containg:\n",
    "- `lead_basic_details`: Contains the basic details of leads\n",
    "- `sales_managers_assigned_leads_details`: Contains the details of the senior and junior sales managers and their assigned leads.\n",
    "- `leads_interaction_details`: Contains the details of call interactions of junior sales managers with the leads.Lead interaction details\n",
    "- `leads_demo_watched_details`: Contains the details of the demo session watched by the leads.\n",
    "- `leads_reasons_for_no_interest`: Contains the details of the reasons given by the leads for their lack of interest."
   ]
  },
  {
   "attachments": {},
   "cell_type": "markdown",
   "metadata": {},
   "source": [
    "## Loading libraries"
   ]
  },
  {
   "cell_type": "code",
   "execution_count": 1,
   "metadata": {},
   "outputs": [],
   "source": [
    "import pandas as pd \n",
    "import numpy as np \n",
    "import matplotlib.pyplot as plt \n",
    "import seaborn as sns "
   ]
  },
  {
   "attachments": {},
   "cell_type": "markdown",
   "metadata": {},
   "source": [
    "## Loading the dataset\n",
    "### Lead interaction Details "
   ]
  },
  {
   "cell_type": "code",
   "execution_count": 2,
   "metadata": {},
   "outputs": [
    {
     "data": {
      "text/html": [
       "<div>\n",
       "<style scoped>\n",
       "    .dataframe tbody tr th:only-of-type {\n",
       "        vertical-align: middle;\n",
       "    }\n",
       "\n",
       "    .dataframe tbody tr th {\n",
       "        vertical-align: top;\n",
       "    }\n",
       "\n",
       "    .dataframe thead th {\n",
       "        text-align: right;\n",
       "    }\n",
       "</style>\n",
       "<table border=\"1\" class=\"dataframe\">\n",
       "  <thead>\n",
       "    <tr style=\"text-align: right;\">\n",
       "      <th></th>\n",
       "      <th>jnr_sm_id</th>\n",
       "      <th>lead_id</th>\n",
       "      <th>lead_stage</th>\n",
       "      <th>call_done_date</th>\n",
       "      <th>call_status</th>\n",
       "      <th>call_reason</th>\n",
       "    </tr>\n",
       "  </thead>\n",
       "  <tbody>\n",
       "    <tr>\n",
       "      <th>0</th>\n",
       "      <td>JNR1001MG</td>\n",
       "      <td>USR1001</td>\n",
       "      <td>lead</td>\n",
       "      <td>1/2/2022</td>\n",
       "      <td>successful</td>\n",
       "      <td>lead_introduction</td>\n",
       "    </tr>\n",
       "    <tr>\n",
       "      <th>1</th>\n",
       "      <td>JNR1001MG</td>\n",
       "      <td>USR1001</td>\n",
       "      <td>lead</td>\n",
       "      <td>1/2/2022</td>\n",
       "      <td>successful</td>\n",
       "      <td>demo_schedule</td>\n",
       "    </tr>\n",
       "    <tr>\n",
       "      <th>2</th>\n",
       "      <td>JNR1001MG</td>\n",
       "      <td>USR1002</td>\n",
       "      <td>lead</td>\n",
       "      <td>1/3/2022</td>\n",
       "      <td>successful</td>\n",
       "      <td>lead_introduction</td>\n",
       "    </tr>\n",
       "    <tr>\n",
       "      <th>3</th>\n",
       "      <td>JNR1001MG</td>\n",
       "      <td>USR1002</td>\n",
       "      <td>lead</td>\n",
       "      <td>1/4/2022</td>\n",
       "      <td>successful</td>\n",
       "      <td>demo_schedule</td>\n",
       "    </tr>\n",
       "    <tr>\n",
       "      <th>4</th>\n",
       "      <td>JNR1001MG</td>\n",
       "      <td>USR1002</td>\n",
       "      <td>awareness</td>\n",
       "      <td>1/5/2022</td>\n",
       "      <td>successful</td>\n",
       "      <td>post_demo_followup</td>\n",
       "    </tr>\n",
       "    <tr>\n",
       "      <th>5</th>\n",
       "      <td>JNR1001MG</td>\n",
       "      <td>USR1002</td>\n",
       "      <td>awareness</td>\n",
       "      <td>1/6/2022</td>\n",
       "      <td>successful</td>\n",
       "      <td>followup_for_consideration</td>\n",
       "    </tr>\n",
       "    <tr>\n",
       "      <th>6</th>\n",
       "      <td>JNR1001MG</td>\n",
       "      <td>USR1002</td>\n",
       "      <td>consideration</td>\n",
       "      <td>1/7/2022</td>\n",
       "      <td>successful</td>\n",
       "      <td>interested_for_conversion</td>\n",
       "    </tr>\n",
       "  </tbody>\n",
       "</table>\n",
       "</div>"
      ],
      "text/plain": [
       "   jnr_sm_id  lead_id     lead_stage call_done_date call_status  \\\n",
       "0  JNR1001MG  USR1001           lead       1/2/2022  successful   \n",
       "1  JNR1001MG  USR1001           lead       1/2/2022  successful   \n",
       "2  JNR1001MG  USR1002           lead       1/3/2022  successful   \n",
       "3  JNR1001MG  USR1002           lead       1/4/2022  successful   \n",
       "4  JNR1001MG  USR1002      awareness       1/5/2022  successful   \n",
       "5  JNR1001MG  USR1002      awareness       1/6/2022  successful   \n",
       "6  JNR1001MG  USR1002  consideration       1/7/2022  successful   \n",
       "\n",
       "                  call_reason  \n",
       "0           lead_introduction  \n",
       "1               demo_schedule  \n",
       "2           lead_introduction  \n",
       "3               demo_schedule  \n",
       "4          post_demo_followup  \n",
       "5  followup_for_consideration  \n",
       "6   interested_for_conversion  "
      ]
     },
     "execution_count": 2,
     "metadata": {},
     "output_type": "execute_result"
    }
   ],
   "source": [
    "# Load the interaction details \n",
    "interactions_df = pd.read_csv('leads_interaction_details.csv')\n",
    "interactions_df.head(7)"
   ]
  },
  {
   "cell_type": "code",
   "execution_count": 3,
   "metadata": {},
   "outputs": [
    {
     "name": "stdout",
     "output_type": "stream",
     "text": [
      "<class 'pandas.core.frame.DataFrame'>\n",
      "RangeIndex: 2192 entries, 0 to 2191\n",
      "Data columns (total 6 columns):\n",
      " #   Column          Non-Null Count  Dtype \n",
      "---  ------          --------------  ----- \n",
      " 0   jnr_sm_id       2192 non-null   object\n",
      " 1   lead_id         2192 non-null   object\n",
      " 2   lead_stage      2192 non-null   object\n",
      " 3   call_done_date  2192 non-null   object\n",
      " 4   call_status     2192 non-null   object\n",
      " 5   call_reason     2192 non-null   object\n",
      "dtypes: object(6)\n",
      "memory usage: 102.9+ KB\n"
     ]
    }
   ],
   "source": [
    "interactions_df.info()"
   ]
  },
  {
   "attachments": {},
   "cell_type": "markdown",
   "metadata": {},
   "source": [
    "The dataset has 2192 rows and 5 columns. There are no missing values."
   ]
  },
  {
   "cell_type": "code",
   "execution_count": 4,
   "metadata": {},
   "outputs": [
    {
     "data": {
      "text/plain": [
       "True"
      ]
     },
     "execution_count": 4,
     "metadata": {},
     "output_type": "execute_result"
    }
   ],
   "source": [
    "interactions_df.duplicated().any()"
   ]
  },
  {
   "attachments": {},
   "cell_type": "markdown",
   "metadata": {},
   "source": [
    "The dataset has duplicated rows. "
   ]
  },
  {
   "cell_type": "code",
   "execution_count": 5,
   "metadata": {},
   "outputs": [
    {
     "data": {
      "text/html": [
       "<div>\n",
       "<style scoped>\n",
       "    .dataframe tbody tr th:only-of-type {\n",
       "        vertical-align: middle;\n",
       "    }\n",
       "\n",
       "    .dataframe tbody tr th {\n",
       "        vertical-align: top;\n",
       "    }\n",
       "\n",
       "    .dataframe thead th {\n",
       "        text-align: right;\n",
       "    }\n",
       "</style>\n",
       "<table border=\"1\" class=\"dataframe\">\n",
       "  <thead>\n",
       "    <tr style=\"text-align: right;\">\n",
       "      <th></th>\n",
       "      <th>jnr_sm_id</th>\n",
       "      <th>lead_id</th>\n",
       "      <th>lead_stage</th>\n",
       "      <th>call_done_date</th>\n",
       "      <th>call_status</th>\n",
       "      <th>call_reason</th>\n",
       "    </tr>\n",
       "  </thead>\n",
       "  <tbody>\n",
       "    <tr>\n",
       "      <th>count</th>\n",
       "      <td>2192</td>\n",
       "      <td>2192</td>\n",
       "      <td>2192</td>\n",
       "      <td>2192</td>\n",
       "      <td>2192</td>\n",
       "      <td>2192</td>\n",
       "    </tr>\n",
       "    <tr>\n",
       "      <th>unique</th>\n",
       "      <td>16</td>\n",
       "      <td>358</td>\n",
       "      <td>4</td>\n",
       "      <td>40</td>\n",
       "      <td>2</td>\n",
       "      <td>8</td>\n",
       "    </tr>\n",
       "    <tr>\n",
       "      <th>top</th>\n",
       "      <td>JNR1012MG</td>\n",
       "      <td>USR1193</td>\n",
       "      <td>lead</td>\n",
       "      <td>1/8/2022</td>\n",
       "      <td>successful</td>\n",
       "      <td>demo_not_attended</td>\n",
       "    </tr>\n",
       "    <tr>\n",
       "      <th>freq</th>\n",
       "      <td>164</td>\n",
       "      <td>11</td>\n",
       "      <td>1547</td>\n",
       "      <td>156</td>\n",
       "      <td>1866</td>\n",
       "      <td>701</td>\n",
       "    </tr>\n",
       "  </tbody>\n",
       "</table>\n",
       "</div>"
      ],
      "text/plain": [
       "        jnr_sm_id  lead_id lead_stage call_done_date call_status  \\\n",
       "count        2192     2192       2192           2192        2192   \n",
       "unique         16      358          4             40           2   \n",
       "top     JNR1012MG  USR1193       lead       1/8/2022  successful   \n",
       "freq          164       11       1547            156        1866   \n",
       "\n",
       "              call_reason  \n",
       "count                2192  \n",
       "unique                  8  \n",
       "top     demo_not_attended  \n",
       "freq                  701  "
      ]
     },
     "execution_count": 5,
     "metadata": {},
     "output_type": "execute_result"
    }
   ],
   "source": [
    "interactions_df.describe()"
   ]
  },
  {
   "attachments": {},
   "cell_type": "markdown",
   "metadata": {},
   "source": [
    "### Client basic details"
   ]
  },
  {
   "cell_type": "code",
   "execution_count": 6,
   "metadata": {},
   "outputs": [
    {
     "data": {
      "text/html": [
       "<div>\n",
       "<style scoped>\n",
       "    .dataframe tbody tr th:only-of-type {\n",
       "        vertical-align: middle;\n",
       "    }\n",
       "\n",
       "    .dataframe tbody tr th {\n",
       "        vertical-align: top;\n",
       "    }\n",
       "\n",
       "    .dataframe thead th {\n",
       "        text-align: right;\n",
       "    }\n",
       "</style>\n",
       "<table border=\"1\" class=\"dataframe\">\n",
       "  <thead>\n",
       "    <tr style=\"text-align: right;\">\n",
       "      <th></th>\n",
       "      <th>lead_id</th>\n",
       "      <th>age</th>\n",
       "      <th>gender</th>\n",
       "      <th>current_city</th>\n",
       "      <th>current_education</th>\n",
       "      <th>parent_occupation</th>\n",
       "      <th>lead_gen_source</th>\n",
       "    </tr>\n",
       "  </thead>\n",
       "  <tbody>\n",
       "    <tr>\n",
       "      <th>331</th>\n",
       "      <td>USR1332</td>\n",
       "      <td>25</td>\n",
       "      <td>MALE</td>\n",
       "      <td>Bengaluru</td>\n",
       "      <td>Looking for Job</td>\n",
       "      <td>Government Employee</td>\n",
       "      <td>email_marketing</td>\n",
       "    </tr>\n",
       "    <tr>\n",
       "      <th>46</th>\n",
       "      <td>USR1047</td>\n",
       "      <td>18</td>\n",
       "      <td>FEMALE</td>\n",
       "      <td>Chennai</td>\n",
       "      <td>B.Tech</td>\n",
       "      <td>IT Employee</td>\n",
       "      <td>email_marketing</td>\n",
       "    </tr>\n",
       "    <tr>\n",
       "      <th>101</th>\n",
       "      <td>USR1102</td>\n",
       "      <td>20</td>\n",
       "      <td>MALE</td>\n",
       "      <td>Bengaluru</td>\n",
       "      <td>B.Tech</td>\n",
       "      <td>Business</td>\n",
       "      <td>user_referrals</td>\n",
       "    </tr>\n",
       "    <tr>\n",
       "      <th>289</th>\n",
       "      <td>USR1290</td>\n",
       "      <td>24</td>\n",
       "      <td>MALE</td>\n",
       "      <td>Chennai</td>\n",
       "      <td>Looking for Job</td>\n",
       "      <td>Government Employee</td>\n",
       "      <td>email_marketing</td>\n",
       "    </tr>\n",
       "    <tr>\n",
       "      <th>231</th>\n",
       "      <td>USR1232</td>\n",
       "      <td>25</td>\n",
       "      <td>MALE</td>\n",
       "      <td>Bengaluru</td>\n",
       "      <td>Looking for Job</td>\n",
       "      <td>Government Employee</td>\n",
       "      <td>email_marketing</td>\n",
       "    </tr>\n",
       "    <tr>\n",
       "      <th>61</th>\n",
       "      <td>USR1062</td>\n",
       "      <td>20</td>\n",
       "      <td>FEMALE</td>\n",
       "      <td>Kochi</td>\n",
       "      <td>B.Tech</td>\n",
       "      <td>Business</td>\n",
       "      <td>email_marketing</td>\n",
       "    </tr>\n",
       "    <tr>\n",
       "      <th>344</th>\n",
       "      <td>USR1345</td>\n",
       "      <td>22</td>\n",
       "      <td>FEMALE</td>\n",
       "      <td>Visakhapatnam</td>\n",
       "      <td>Looking for Job</td>\n",
       "      <td>Business</td>\n",
       "      <td>website</td>\n",
       "    </tr>\n",
       "    <tr>\n",
       "      <th>223</th>\n",
       "      <td>USR1224</td>\n",
       "      <td>22</td>\n",
       "      <td>FEMALE</td>\n",
       "      <td>Kochi</td>\n",
       "      <td>Looking for Job</td>\n",
       "      <td>IT Employee</td>\n",
       "      <td>social_media</td>\n",
       "    </tr>\n",
       "    <tr>\n",
       "      <th>260</th>\n",
       "      <td>USR1261</td>\n",
       "      <td>20</td>\n",
       "      <td>FEMALE</td>\n",
       "      <td>Bengaluru</td>\n",
       "      <td>B.Tech</td>\n",
       "      <td>Government Employee</td>\n",
       "      <td>email_marketing</td>\n",
       "    </tr>\n",
       "    <tr>\n",
       "      <th>171</th>\n",
       "      <td>USR1172</td>\n",
       "      <td>25</td>\n",
       "      <td>FEMALE</td>\n",
       "      <td>Mumbai</td>\n",
       "      <td>Intermediate Completed</td>\n",
       "      <td>IT Employee</td>\n",
       "      <td>SEO</td>\n",
       "    </tr>\n",
       "  </tbody>\n",
       "</table>\n",
       "</div>"
      ],
      "text/plain": [
       "     lead_id  age  gender   current_city       current_education  \\\n",
       "331  USR1332   25    MALE      Bengaluru         Looking for Job   \n",
       "46   USR1047   18  FEMALE        Chennai                  B.Tech   \n",
       "101  USR1102   20    MALE      Bengaluru                  B.Tech   \n",
       "289  USR1290   24    MALE        Chennai         Looking for Job   \n",
       "231  USR1232   25    MALE      Bengaluru         Looking for Job   \n",
       "61   USR1062   20  FEMALE          Kochi                  B.Tech   \n",
       "344  USR1345   22  FEMALE  Visakhapatnam         Looking for Job   \n",
       "223  USR1224   22  FEMALE          Kochi         Looking for Job   \n",
       "260  USR1261   20  FEMALE      Bengaluru                  B.Tech   \n",
       "171  USR1172   25  FEMALE         Mumbai  Intermediate Completed   \n",
       "\n",
       "       parent_occupation  lead_gen_source  \n",
       "331  Government Employee  email_marketing  \n",
       "46           IT Employee  email_marketing  \n",
       "101             Business   user_referrals  \n",
       "289  Government Employee  email_marketing  \n",
       "231  Government Employee  email_marketing  \n",
       "61              Business  email_marketing  \n",
       "344             Business          website  \n",
       "223          IT Employee     social_media  \n",
       "260  Government Employee  email_marketing  \n",
       "171          IT Employee              SEO  "
      ]
     },
     "execution_count": 6,
     "metadata": {},
     "output_type": "execute_result"
    }
   ],
   "source": [
    "# Load the client details\n",
    "leads_details = pd.read_csv('leads_basic_details.csv')\n",
    "leads_details.sample(10)"
   ]
  },
  {
   "cell_type": "code",
   "execution_count": 7,
   "metadata": {},
   "outputs": [
    {
     "name": "stdout",
     "output_type": "stream",
     "text": [
      "<class 'pandas.core.frame.DataFrame'>\n",
      "RangeIndex: 360 entries, 0 to 359\n",
      "Data columns (total 7 columns):\n",
      " #   Column             Non-Null Count  Dtype \n",
      "---  ------             --------------  ----- \n",
      " 0   lead_id            360 non-null    object\n",
      " 1   age                360 non-null    int64 \n",
      " 2   gender             360 non-null    object\n",
      " 3   current_city       360 non-null    object\n",
      " 4   current_education  360 non-null    object\n",
      " 5   parent_occupation  360 non-null    object\n",
      " 6   lead_gen_source    360 non-null    object\n",
      "dtypes: int64(1), object(6)\n",
      "memory usage: 19.8+ KB\n"
     ]
    }
   ],
   "source": [
    "leads_details.info()"
   ]
  },
  {
   "attachments": {},
   "cell_type": "markdown",
   "metadata": {},
   "source": [
    "The datset contains details of 360 clients with information like age, gender, current city and education, parent's occupation and how the client came to know about the product."
   ]
  },
  {
   "cell_type": "code",
   "execution_count": 8,
   "metadata": {},
   "outputs": [
    {
     "data": {
      "text/plain": [
       "False"
      ]
     },
     "execution_count": 8,
     "metadata": {},
     "output_type": "execute_result"
    }
   ],
   "source": [
    "leads_details.duplicated().any()"
   ]
  },
  {
   "attachments": {},
   "cell_type": "markdown",
   "metadata": {},
   "source": [
    "There are no duplicated rows. "
   ]
  },
  {
   "cell_type": "code",
   "execution_count": 9,
   "metadata": {},
   "outputs": [
    {
     "data": {
      "text/html": [
       "<div>\n",
       "<style scoped>\n",
       "    .dataframe tbody tr th:only-of-type {\n",
       "        vertical-align: middle;\n",
       "    }\n",
       "\n",
       "    .dataframe tbody tr th {\n",
       "        vertical-align: top;\n",
       "    }\n",
       "\n",
       "    .dataframe thead th {\n",
       "        text-align: right;\n",
       "    }\n",
       "</style>\n",
       "<table border=\"1\" class=\"dataframe\">\n",
       "  <thead>\n",
       "    <tr style=\"text-align: right;\">\n",
       "      <th></th>\n",
       "      <th>age</th>\n",
       "    </tr>\n",
       "  </thead>\n",
       "  <tbody>\n",
       "    <tr>\n",
       "      <th>count</th>\n",
       "      <td>360.000000</td>\n",
       "    </tr>\n",
       "    <tr>\n",
       "      <th>mean</th>\n",
       "      <td>21.561111</td>\n",
       "    </tr>\n",
       "    <tr>\n",
       "      <th>std</th>\n",
       "      <td>11.555444</td>\n",
       "    </tr>\n",
       "    <tr>\n",
       "      <th>min</th>\n",
       "      <td>16.000000</td>\n",
       "    </tr>\n",
       "    <tr>\n",
       "      <th>25%</th>\n",
       "      <td>18.000000</td>\n",
       "    </tr>\n",
       "    <tr>\n",
       "      <th>50%</th>\n",
       "      <td>21.000000</td>\n",
       "    </tr>\n",
       "    <tr>\n",
       "      <th>75%</th>\n",
       "      <td>24.000000</td>\n",
       "    </tr>\n",
       "    <tr>\n",
       "      <th>max</th>\n",
       "      <td>211.000000</td>\n",
       "    </tr>\n",
       "  </tbody>\n",
       "</table>\n",
       "</div>"
      ],
      "text/plain": [
       "              age\n",
       "count  360.000000\n",
       "mean    21.561111\n",
       "std     11.555444\n",
       "min     16.000000\n",
       "25%     18.000000\n",
       "50%     21.000000\n",
       "75%     24.000000\n",
       "max    211.000000"
      ]
     },
     "execution_count": 9,
     "metadata": {},
     "output_type": "execute_result"
    }
   ],
   "source": [
    "leads_details.describe()"
   ]
  },
  {
   "attachments": {},
   "cell_type": "markdown",
   "metadata": {},
   "source": [
    "There are outliers in this dataset."
   ]
  },
  {
   "cell_type": "code",
   "execution_count": 10,
   "metadata": {},
   "outputs": [
    {
     "data": {
      "text/html": [
       "<div>\n",
       "<style scoped>\n",
       "    .dataframe tbody tr th:only-of-type {\n",
       "        vertical-align: middle;\n",
       "    }\n",
       "\n",
       "    .dataframe tbody tr th {\n",
       "        vertical-align: top;\n",
       "    }\n",
       "\n",
       "    .dataframe thead th {\n",
       "        text-align: right;\n",
       "    }\n",
       "</style>\n",
       "<table border=\"1\" class=\"dataframe\">\n",
       "  <thead>\n",
       "    <tr style=\"text-align: right;\">\n",
       "      <th></th>\n",
       "      <th>lead_id</th>\n",
       "      <th>demo_watched_date</th>\n",
       "      <th>language</th>\n",
       "      <th>watched_percentage</th>\n",
       "    </tr>\n",
       "  </thead>\n",
       "  <tbody>\n",
       "    <tr>\n",
       "      <th>116</th>\n",
       "      <td>USR1182</td>\n",
       "      <td>1/6/2022</td>\n",
       "      <td>Hindi</td>\n",
       "      <td>60</td>\n",
       "    </tr>\n",
       "    <tr>\n",
       "      <th>38</th>\n",
       "      <td>USR1040</td>\n",
       "      <td>2/25/2022</td>\n",
       "      <td>English</td>\n",
       "      <td>35</td>\n",
       "    </tr>\n",
       "    <tr>\n",
       "      <th>106</th>\n",
       "      <td>USR1162</td>\n",
       "      <td>1/6/2022</td>\n",
       "      <td>Telugu</td>\n",
       "      <td>49</td>\n",
       "    </tr>\n",
       "    <tr>\n",
       "      <th>1</th>\n",
       "      <td>USR1003</td>\n",
       "      <td>1/7/2022</td>\n",
       "      <td>Telugu</td>\n",
       "      <td>81</td>\n",
       "    </tr>\n",
       "    <tr>\n",
       "      <th>68</th>\n",
       "      <td>USR1091</td>\n",
       "      <td>1/20/2022</td>\n",
       "      <td>English</td>\n",
       "      <td>92</td>\n",
       "    </tr>\n",
       "    <tr>\n",
       "      <th>12</th>\n",
       "      <td>USR1014</td>\n",
       "      <td>1/18/2022</td>\n",
       "      <td>Telugu</td>\n",
       "      <td>51</td>\n",
       "    </tr>\n",
       "    <tr>\n",
       "      <th>164</th>\n",
       "      <td>USR1272</td>\n",
       "      <td>1/17/2022</td>\n",
       "      <td>English</td>\n",
       "      <td>76</td>\n",
       "    </tr>\n",
       "    <tr>\n",
       "      <th>31</th>\n",
       "      <td>USR1033</td>\n",
       "      <td>1/21/2022</td>\n",
       "      <td>English</td>\n",
       "      <td>55</td>\n",
       "    </tr>\n",
       "    <tr>\n",
       "      <th>119</th>\n",
       "      <td>USR1187</td>\n",
       "      <td>1/10/2022</td>\n",
       "      <td>Telugu</td>\n",
       "      <td>80</td>\n",
       "    </tr>\n",
       "    <tr>\n",
       "      <th>94</th>\n",
       "      <td>USR1138</td>\n",
       "      <td>2/20/2022</td>\n",
       "      <td>English</td>\n",
       "      <td>510</td>\n",
       "    </tr>\n",
       "  </tbody>\n",
       "</table>\n",
       "</div>"
      ],
      "text/plain": [
       "     lead_id demo_watched_date language  watched_percentage\n",
       "116  USR1182          1/6/2022    Hindi                  60\n",
       "38   USR1040         2/25/2022  English                  35\n",
       "106  USR1162          1/6/2022   Telugu                  49\n",
       "1    USR1003          1/7/2022   Telugu                  81\n",
       "68   USR1091         1/20/2022  English                  92\n",
       "12   USR1014         1/18/2022   Telugu                  51\n",
       "164  USR1272         1/17/2022  English                  76\n",
       "31   USR1033         1/21/2022  English                  55\n",
       "119  USR1187         1/10/2022   Telugu                  80\n",
       "94   USR1138         2/20/2022  English                 510"
      ]
     },
     "execution_count": 10,
     "metadata": {},
     "output_type": "execute_result"
    }
   ],
   "source": [
    "demos_df = pd.read_csv('leads_demo_watched_details.csv')\n",
    "demos_df.sample(10)"
   ]
  },
  {
   "cell_type": "code",
   "execution_count": 11,
   "metadata": {},
   "outputs": [
    {
     "name": "stdout",
     "output_type": "stream",
     "text": [
      "<class 'pandas.core.frame.DataFrame'>\n",
      "RangeIndex: 194 entries, 0 to 193\n",
      "Data columns (total 4 columns):\n",
      " #   Column              Non-Null Count  Dtype \n",
      "---  ------              --------------  ----- \n",
      " 0   lead_id             194 non-null    object\n",
      " 1   demo_watched_date   194 non-null    object\n",
      " 2   language            194 non-null    object\n",
      " 3   watched_percentage  194 non-null    int64 \n",
      "dtypes: int64(1), object(3)\n",
      "memory usage: 6.2+ KB\n"
     ]
    }
   ],
   "source": [
    "demos_df.info()"
   ]
  },
  {
   "attachments": {},
   "cell_type": "markdown",
   "metadata": {},
   "source": [
    "The dataset contains details of demos watched by leads. There are no missing values. "
   ]
  },
  {
   "cell_type": "code",
   "execution_count": 12,
   "metadata": {},
   "outputs": [
    {
     "data": {
      "text/html": [
       "<div>\n",
       "<style scoped>\n",
       "    .dataframe tbody tr th:only-of-type {\n",
       "        vertical-align: middle;\n",
       "    }\n",
       "\n",
       "    .dataframe tbody tr th {\n",
       "        vertical-align: top;\n",
       "    }\n",
       "\n",
       "    .dataframe thead th {\n",
       "        text-align: right;\n",
       "    }\n",
       "</style>\n",
       "<table border=\"1\" class=\"dataframe\">\n",
       "  <thead>\n",
       "    <tr style=\"text-align: right;\">\n",
       "      <th></th>\n",
       "      <th>watched_percentage</th>\n",
       "    </tr>\n",
       "  </thead>\n",
       "  <tbody>\n",
       "    <tr>\n",
       "      <th>count</th>\n",
       "      <td>194.000000</td>\n",
       "    </tr>\n",
       "    <tr>\n",
       "      <th>mean</th>\n",
       "      <td>56.634021</td>\n",
       "    </tr>\n",
       "    <tr>\n",
       "      <th>std</th>\n",
       "      <td>43.555635</td>\n",
       "    </tr>\n",
       "    <tr>\n",
       "      <th>min</th>\n",
       "      <td>2.000000</td>\n",
       "    </tr>\n",
       "    <tr>\n",
       "      <th>25%</th>\n",
       "      <td>35.000000</td>\n",
       "    </tr>\n",
       "    <tr>\n",
       "      <th>50%</th>\n",
       "      <td>55.500000</td>\n",
       "    </tr>\n",
       "    <tr>\n",
       "      <th>75%</th>\n",
       "      <td>75.750000</td>\n",
       "    </tr>\n",
       "    <tr>\n",
       "      <th>max</th>\n",
       "      <td>510.000000</td>\n",
       "    </tr>\n",
       "  </tbody>\n",
       "</table>\n",
       "</div>"
      ],
      "text/plain": [
       "       watched_percentage\n",
       "count          194.000000\n",
       "mean            56.634021\n",
       "std             43.555635\n",
       "min              2.000000\n",
       "25%             35.000000\n",
       "50%             55.500000\n",
       "75%             75.750000\n",
       "max            510.000000"
      ]
     },
     "execution_count": 12,
     "metadata": {},
     "output_type": "execute_result"
    }
   ],
   "source": [
    "demos_df.describe()"
   ]
  },
  {
   "attachments": {},
   "cell_type": "markdown",
   "metadata": {},
   "source": [
    "There are leads who watched 510% of the demo. This is ofcourse is an outlier so it should be cleaned."
   ]
  },
  {
   "attachments": {},
   "cell_type": "markdown",
   "metadata": {},
   "source": [
    "### Reasons for not being interested\n",
    "This dataset contains the leads' reasons as to why they dropped out at the various stages of the customer acquistion process."
   ]
  },
  {
   "cell_type": "code",
   "execution_count": 13,
   "metadata": {},
   "outputs": [
    {
     "data": {
      "text/html": [
       "<div>\n",
       "<style scoped>\n",
       "    .dataframe tbody tr th:only-of-type {\n",
       "        vertical-align: middle;\n",
       "    }\n",
       "\n",
       "    .dataframe tbody tr th {\n",
       "        vertical-align: top;\n",
       "    }\n",
       "\n",
       "    .dataframe thead th {\n",
       "        text-align: right;\n",
       "    }\n",
       "</style>\n",
       "<table border=\"1\" class=\"dataframe\">\n",
       "  <thead>\n",
       "    <tr style=\"text-align: right;\">\n",
       "      <th></th>\n",
       "      <th>lead_id</th>\n",
       "      <th>reasons_for_not_interested_in_demo</th>\n",
       "      <th>reasons_for_not_interested_to_consider</th>\n",
       "      <th>reasons_for_not_interested_to_convert</th>\n",
       "    </tr>\n",
       "  </thead>\n",
       "  <tbody>\n",
       "    <tr>\n",
       "      <th>0</th>\n",
       "      <td>USR1001</td>\n",
       "      <td>No time for student</td>\n",
       "      <td>NaN</td>\n",
       "      <td>NaN</td>\n",
       "    </tr>\n",
       "    <tr>\n",
       "      <th>1</th>\n",
       "      <td>USR1003</td>\n",
       "      <td>NaN</td>\n",
       "      <td>No time for student</td>\n",
       "      <td>NaN</td>\n",
       "    </tr>\n",
       "    <tr>\n",
       "      <th>2</th>\n",
       "      <td>USR1004</td>\n",
       "      <td>NaN</td>\n",
       "      <td>Wants offline classes</td>\n",
       "      <td>NaN</td>\n",
       "    </tr>\n",
       "    <tr>\n",
       "      <th>3</th>\n",
       "      <td>USR1005</td>\n",
       "      <td>NaN</td>\n",
       "      <td>Can't afford</td>\n",
       "      <td>NaN</td>\n",
       "    </tr>\n",
       "    <tr>\n",
       "      <th>4</th>\n",
       "      <td>USR1006</td>\n",
       "      <td>NaN</td>\n",
       "      <td>Student not interested in domain</td>\n",
       "      <td>NaN</td>\n",
       "    </tr>\n",
       "    <tr>\n",
       "      <th>...</th>\n",
       "      <td>...</td>\n",
       "      <td>...</td>\n",
       "      <td>...</td>\n",
       "      <td>...</td>\n",
       "    </tr>\n",
       "    <tr>\n",
       "      <th>289</th>\n",
       "      <td>USR1356</td>\n",
       "      <td>Cannot afford</td>\n",
       "      <td>NaN</td>\n",
       "      <td>NaN</td>\n",
       "    </tr>\n",
       "    <tr>\n",
       "      <th>290</th>\n",
       "      <td>USR1357</td>\n",
       "      <td>Cannot afford</td>\n",
       "      <td>NaN</td>\n",
       "      <td>NaN</td>\n",
       "    </tr>\n",
       "    <tr>\n",
       "      <th>291</th>\n",
       "      <td>USR1358</td>\n",
       "      <td>Wants offline classes</td>\n",
       "      <td>NaN</td>\n",
       "      <td>NaN</td>\n",
       "    </tr>\n",
       "    <tr>\n",
       "      <th>292</th>\n",
       "      <td>USR1359</td>\n",
       "      <td>Will join in final year</td>\n",
       "      <td>NaN</td>\n",
       "      <td>NaN</td>\n",
       "    </tr>\n",
       "    <tr>\n",
       "      <th>293</th>\n",
       "      <td>USR1360</td>\n",
       "      <td>Will join in final year</td>\n",
       "      <td>NaN</td>\n",
       "      <td>NaN</td>\n",
       "    </tr>\n",
       "  </tbody>\n",
       "</table>\n",
       "<p>294 rows × 4 columns</p>\n",
       "</div>"
      ],
      "text/plain": [
       "     lead_id reasons_for_not_interested_in_demo  \\\n",
       "0    USR1001                No time for student   \n",
       "1    USR1003                                NaN   \n",
       "2    USR1004                                NaN   \n",
       "3    USR1005                                NaN   \n",
       "4    USR1006                                NaN   \n",
       "..       ...                                ...   \n",
       "289  USR1356                      Cannot afford   \n",
       "290  USR1357                      Cannot afford   \n",
       "291  USR1358              Wants offline classes   \n",
       "292  USR1359            Will join in final year   \n",
       "293  USR1360            Will join in final year   \n",
       "\n",
       "    reasons_for_not_interested_to_consider  \\\n",
       "0                                      NaN   \n",
       "1                      No time for student   \n",
       "2                    Wants offline classes   \n",
       "3                             Can't afford   \n",
       "4         Student not interested in domain   \n",
       "..                                     ...   \n",
       "289                                    NaN   \n",
       "290                                    NaN   \n",
       "291                                    NaN   \n",
       "292                                    NaN   \n",
       "293                                    NaN   \n",
       "\n",
       "    reasons_for_not_interested_to_convert  \n",
       "0                                     NaN  \n",
       "1                                     NaN  \n",
       "2                                     NaN  \n",
       "3                                     NaN  \n",
       "4                                     NaN  \n",
       "..                                    ...  \n",
       "289                                   NaN  \n",
       "290                                   NaN  \n",
       "291                                   NaN  \n",
       "292                                   NaN  \n",
       "293                                   NaN  \n",
       "\n",
       "[294 rows x 4 columns]"
      ]
     },
     "execution_count": 13,
     "metadata": {},
     "output_type": "execute_result"
    }
   ],
   "source": [
    "no_interest_df = pd.read_csv('leads_reasons_for_no_interest.csv')\n",
    "no_interest_df"
   ]
  },
  {
   "cell_type": "code",
   "execution_count": 14,
   "metadata": {},
   "outputs": [
    {
     "name": "stdout",
     "output_type": "stream",
     "text": [
      "<class 'pandas.core.frame.DataFrame'>\n",
      "RangeIndex: 294 entries, 0 to 293\n",
      "Data columns (total 4 columns):\n",
      " #   Column                                  Non-Null Count  Dtype \n",
      "---  ------                                  --------------  ----- \n",
      " 0   lead_id                                 294 non-null    object\n",
      " 1   reasons_for_not_interested_in_demo      164 non-null    object\n",
      " 2   reasons_for_not_interested_to_consider  79 non-null     object\n",
      " 3   reasons_for_not_interested_to_convert   51 non-null     object\n",
      "dtypes: object(4)\n",
      "memory usage: 9.3+ KB\n"
     ]
    }
   ],
   "source": [
    "no_interest_df.info()"
   ]
  },
  {
   "attachments": {},
   "cell_type": "markdown",
   "metadata": {},
   "source": [
    "We have missing values in the last 3 columns. We can melt them to 2 columns, which stage they dropped out and the reason."
   ]
  },
  {
   "cell_type": "code",
   "execution_count": 15,
   "metadata": {},
   "outputs": [
    {
     "name": "stdout",
     "output_type": "stream",
     "text": [
      "['No time for student' nan 'Student not interested in domain'\n",
      " 'Wants offline classes' \"Can't afford\" 'Cannot afford'\n",
      " 'Will join in final year']\n",
      "[nan 'No time for student' 'Wants offline classes' \"Can't afford\"\n",
      " 'Student not interested in domain' 'Will join in final year']\n",
      "[nan \"Can't afford\" 'Will join in final year' 'No time for student'\n",
      " 'Student not interested in domain' 'Wants offline classes']\n"
     ]
    }
   ],
   "source": [
    "for col in no_interest_df.columns[1:]:\n",
    "    print(no_interest_df[col].unique())"
   ]
  },
  {
   "attachments": {},
   "cell_type": "markdown",
   "metadata": {},
   "source": [
    "Reasons like `Can't afford` and `Cannot afford` are the same, so it can be combined into one."
   ]
  },
  {
   "attachments": {},
   "cell_type": "markdown",
   "metadata": {},
   "source": [
    "## Cleaning the data and wrangling it"
   ]
  },
  {
   "cell_type": "code",
   "execution_count": 16,
   "metadata": {},
   "outputs": [],
   "source": [
    "# Making copies of the dataframe\n",
    "leads_details_clean = leads_details.copy()\n",
    "interactions_clean = interactions_df.copy()\n",
    "demos_clean = demos_df.copy()\n",
    "no_interest_clean = no_interest_df.copy()"
   ]
  },
  {
   "attachments": {},
   "cell_type": "markdown",
   "metadata": {},
   "source": [
    "### Remove the duplicated rows\n",
    "**Task: Remove duplicate rows**\n",
    "\n",
    "**Code:**"
   ]
  },
  {
   "cell_type": "code",
   "execution_count": 17,
   "metadata": {},
   "outputs": [],
   "source": [
    "interactions_clean = interactions_clean.drop_duplicates()"
   ]
  },
  {
   "attachments": {},
   "cell_type": "markdown",
   "metadata": {},
   "source": [
    "**Test:**"
   ]
  },
  {
   "cell_type": "code",
   "execution_count": 18,
   "metadata": {},
   "outputs": [
    {
     "data": {
      "text/plain": [
       "False"
      ]
     },
     "execution_count": 18,
     "metadata": {},
     "output_type": "execute_result"
    }
   ],
   "source": [
    "interactions_clean.duplicated().any()"
   ]
  },
  {
   "attachments": {},
   "cell_type": "markdown",
   "metadata": {},
   "source": [
    "### Remove outliers\n",
    "**Task: Remove outliers in the lead details**\n",
    "\n",
    "**Code:**"
   ]
  },
  {
   "cell_type": "code",
   "execution_count": 19,
   "metadata": {},
   "outputs": [
    {
     "data": {
      "text/plain": [
       "[16, 18, 20, 21, 22, 24, 25, 116, 211]"
      ]
     },
     "execution_count": 19,
     "metadata": {},
     "output_type": "execute_result"
    }
   ],
   "source": [
    "sorted(leads_details.age.unique())"
   ]
  },
  {
   "attachments": {},
   "cell_type": "markdown",
   "metadata": {},
   "source": [
    "Any age greater than 25 is an outlier"
   ]
  },
  {
   "cell_type": "code",
   "execution_count": 20,
   "metadata": {},
   "outputs": [],
   "source": [
    "leads_details_clean = leads_details_clean.query(\"age <= 25\")"
   ]
  },
  {
   "attachments": {},
   "cell_type": "markdown",
   "metadata": {},
   "source": [
    "**Test:**"
   ]
  },
  {
   "cell_type": "code",
   "execution_count": 21,
   "metadata": {},
   "outputs": [
    {
     "data": {
      "text/plain": [
       "count    358.000000\n",
       "mean      20.768156\n",
       "std        2.852959\n",
       "min       16.000000\n",
       "25%       18.000000\n",
       "50%       21.000000\n",
       "75%       24.000000\n",
       "max       25.000000\n",
       "Name: age, dtype: float64"
      ]
     },
     "execution_count": 21,
     "metadata": {},
     "output_type": "execute_result"
    }
   ],
   "source": [
    "leads_details_clean.age.describe()"
   ]
  },
  {
   "attachments": {},
   "cell_type": "markdown",
   "metadata": {},
   "source": [
    "**Task: Remove outliers in the demo dataset**\n",
    "\n",
    "**Code:**"
   ]
  },
  {
   "cell_type": "code",
   "execution_count": 22,
   "metadata": {},
   "outputs": [],
   "source": [
    "## Anything greater than 100% is an outlier\n",
    "demos_clean = demos_clean.query('watched_percentage<=100')"
   ]
  },
  {
   "attachments": {},
   "cell_type": "markdown",
   "metadata": {},
   "source": [
    "**Test:**"
   ]
  },
  {
   "cell_type": "code",
   "execution_count": 23,
   "metadata": {},
   "outputs": [
    {
     "data": {
      "text/plain": [
       "100"
      ]
     },
     "execution_count": 23,
     "metadata": {},
     "output_type": "execute_result"
    }
   ],
   "source": [
    "demos_clean.watched_percentage.max()"
   ]
  },
  {
   "attachments": {},
   "cell_type": "markdown",
   "metadata": {},
   "source": [
    "### Remove the multiple reasons columns\n",
    "**Task: Combining reasons columns into 2 columns, stage dropped out and the reason**\n",
    "\n",
    "**Code:**"
   ]
  },
  {
   "cell_type": "code",
   "execution_count": 24,
   "metadata": {},
   "outputs": [],
   "source": [
    "stages = {'reasons_for_not_interested_in_demo':'lead',\n",
    "          'reasons_for_not_interested_to_consider':'awareness',\n",
    "          'reasons_for_not_interested_to_convert':'consider'}\n",
    "# Melts the reasons columns into 2 columns\n",
    "no_interest_clean = no_interest_clean.melt('lead_id',no_interest_clean.columns[1:4],'stage_dropped','reason').dropna()\n",
    "# Makes sure the reasons are unique\n",
    "no_interest_clean.loc[no_interest_clean.reason == 'Cannot afford',\"reason\"] = \"Can't afford\"\n",
    "no_interest_clean.loc[no_interest_clean.reason == \"Student not interested in domain\",\"reason\"] = \"Not Interested in domain\"\n",
    "# Replaces the melted column names with the actual stages\n",
    "no_interest_clean['stage_dropped'] = no_interest_clean['stage_dropped'].apply(lambda x: stages[x])"
   ]
  },
  {
   "cell_type": "code",
   "execution_count": 25,
   "metadata": {},
   "outputs": [
    {
     "data": {
      "text/html": [
       "<div>\n",
       "<style scoped>\n",
       "    .dataframe tbody tr th:only-of-type {\n",
       "        vertical-align: middle;\n",
       "    }\n",
       "\n",
       "    .dataframe tbody tr th {\n",
       "        vertical-align: top;\n",
       "    }\n",
       "\n",
       "    .dataframe thead th {\n",
       "        text-align: right;\n",
       "    }\n",
       "</style>\n",
       "<table border=\"1\" class=\"dataframe\">\n",
       "  <thead>\n",
       "    <tr style=\"text-align: right;\">\n",
       "      <th></th>\n",
       "      <th>lead_id</th>\n",
       "      <th>stage_dropped</th>\n",
       "      <th>reason</th>\n",
       "    </tr>\n",
       "  </thead>\n",
       "  <tbody>\n",
       "    <tr>\n",
       "      <th>303</th>\n",
       "      <td>USR1015</td>\n",
       "      <td>awareness</td>\n",
       "      <td>Wants offline classes</td>\n",
       "    </tr>\n",
       "  </tbody>\n",
       "</table>\n",
       "</div>"
      ],
      "text/plain": [
       "     lead_id stage_dropped                 reason\n",
       "303  USR1015     awareness  Wants offline classes"
      ]
     },
     "execution_count": 25,
     "metadata": {},
     "output_type": "execute_result"
    }
   ],
   "source": [
    "no_interest_clean[no_interest_clean['lead_id']=='USR1015']"
   ]
  },
  {
   "attachments": {},
   "cell_type": "markdown",
   "metadata": {},
   "source": [
    "**Test:**"
   ]
  },
  {
   "cell_type": "code",
   "execution_count": 26,
   "metadata": {},
   "outputs": [
    {
     "data": {
      "text/html": [
       "<div>\n",
       "<style scoped>\n",
       "    .dataframe tbody tr th:only-of-type {\n",
       "        vertical-align: middle;\n",
       "    }\n",
       "\n",
       "    .dataframe tbody tr th {\n",
       "        vertical-align: top;\n",
       "    }\n",
       "\n",
       "    .dataframe thead th {\n",
       "        text-align: right;\n",
       "    }\n",
       "</style>\n",
       "<table border=\"1\" class=\"dataframe\">\n",
       "  <thead>\n",
       "    <tr style=\"text-align: right;\">\n",
       "      <th></th>\n",
       "      <th>lead_id</th>\n",
       "      <th>stage_dropped</th>\n",
       "      <th>reason</th>\n",
       "    </tr>\n",
       "  </thead>\n",
       "  <tbody>\n",
       "    <tr>\n",
       "      <th>0</th>\n",
       "      <td>USR1001</td>\n",
       "      <td>lead</td>\n",
       "      <td>No time for student</td>\n",
       "    </tr>\n",
       "    <tr>\n",
       "      <th>32</th>\n",
       "      <td>USR1048</td>\n",
       "      <td>lead</td>\n",
       "      <td>Not Interested in domain</td>\n",
       "    </tr>\n",
       "    <tr>\n",
       "      <th>33</th>\n",
       "      <td>USR1049</td>\n",
       "      <td>lead</td>\n",
       "      <td>No time for student</td>\n",
       "    </tr>\n",
       "    <tr>\n",
       "      <th>35</th>\n",
       "      <td>USR1054</td>\n",
       "      <td>lead</td>\n",
       "      <td>Wants offline classes</td>\n",
       "    </tr>\n",
       "    <tr>\n",
       "      <th>37</th>\n",
       "      <td>USR1056</td>\n",
       "      <td>lead</td>\n",
       "      <td>Can't afford</td>\n",
       "    </tr>\n",
       "    <tr>\n",
       "      <th>...</th>\n",
       "      <td>...</td>\n",
       "      <td>...</td>\n",
       "      <td>...</td>\n",
       "    </tr>\n",
       "    <tr>\n",
       "      <th>819</th>\n",
       "      <td>USR1287</td>\n",
       "      <td>consider</td>\n",
       "      <td>Wants offline classes</td>\n",
       "    </tr>\n",
       "    <tr>\n",
       "      <th>823</th>\n",
       "      <td>USR1291</td>\n",
       "      <td>consider</td>\n",
       "      <td>Wants offline classes</td>\n",
       "    </tr>\n",
       "    <tr>\n",
       "      <th>832</th>\n",
       "      <td>USR1305</td>\n",
       "      <td>consider</td>\n",
       "      <td>Wants offline classes</td>\n",
       "    </tr>\n",
       "    <tr>\n",
       "      <th>864</th>\n",
       "      <td>USR1343</td>\n",
       "      <td>consider</td>\n",
       "      <td>Wants offline classes</td>\n",
       "    </tr>\n",
       "    <tr>\n",
       "      <th>869</th>\n",
       "      <td>USR1348</td>\n",
       "      <td>consider</td>\n",
       "      <td>Wants offline classes</td>\n",
       "    </tr>\n",
       "  </tbody>\n",
       "</table>\n",
       "<p>294 rows × 3 columns</p>\n",
       "</div>"
      ],
      "text/plain": [
       "     lead_id stage_dropped                    reason\n",
       "0    USR1001          lead       No time for student\n",
       "32   USR1048          lead  Not Interested in domain\n",
       "33   USR1049          lead       No time for student\n",
       "35   USR1054          lead     Wants offline classes\n",
       "37   USR1056          lead              Can't afford\n",
       "..       ...           ...                       ...\n",
       "819  USR1287      consider     Wants offline classes\n",
       "823  USR1291      consider     Wants offline classes\n",
       "832  USR1305      consider     Wants offline classes\n",
       "864  USR1343      consider     Wants offline classes\n",
       "869  USR1348      consider     Wants offline classes\n",
       "\n",
       "[294 rows x 3 columns]"
      ]
     },
     "execution_count": 26,
     "metadata": {},
     "output_type": "execute_result"
    }
   ],
   "source": [
    "no_interest_clean"
   ]
  },
  {
   "attachments": {},
   "cell_type": "markdown",
   "metadata": {},
   "source": [
    "The dataset has now 3 columns, lead_id, stage_dropped and reason"
   ]
  },
  {
   "cell_type": "code",
   "execution_count": 27,
   "metadata": {},
   "outputs": [
    {
     "data": {
      "text/plain": [
       "array(['No time for student', 'Not Interested in domain',\n",
       "       'Wants offline classes', \"Can't afford\", 'Will join in final year'],\n",
       "      dtype=object)"
      ]
     },
     "execution_count": 27,
     "metadata": {},
     "output_type": "execute_result"
    }
   ],
   "source": [
    "no_interest_clean['reason'].unique()"
   ]
  },
  {
   "attachments": {},
   "cell_type": "markdown",
   "metadata": {},
   "source": [
    "Unique responses"
   ]
  },
  {
   "attachments": {},
   "cell_type": "markdown",
   "metadata": {},
   "source": [
    "### Renaming the lead_gen_source values\n",
    "\n",
    "**Task: Remove the lower case and capitalize values in the `lead_gen_source` column**\n",
    "\n",
    "**Code:**"
   ]
  },
  {
   "cell_type": "code",
   "execution_count": 28,
   "metadata": {},
   "outputs": [],
   "source": [
    "lead_gens = {\n",
    "    'user_referrals': 'User Referrals',\n",
    "    'social_media' : \"Social Media\",\n",
    "    \"website\" : \"Website\",\n",
    "    \"SEO\":\"SEO\",\n",
    "    \"email_marketing\" : \"Email Marketing\"\n",
    "\n",
    "}\n",
    "leads_details_clean['lead_gen_source'] = leads_details_clean.lead_gen_source.apply(lambda x: lead_gens[x] )"
   ]
  },
  {
   "attachments": {},
   "cell_type": "markdown",
   "metadata": {},
   "source": [
    "**Test**"
   ]
  },
  {
   "cell_type": "code",
   "execution_count": 29,
   "metadata": {},
   "outputs": [
    {
     "data": {
      "text/plain": [
       "array(['Social Media', 'User Referrals', 'Website', 'SEO',\n",
       "       'Email Marketing'], dtype=object)"
      ]
     },
     "execution_count": 29,
     "metadata": {},
     "output_type": "execute_result"
    }
   ],
   "source": [
    "leads_details_clean['lead_gen_source'].unique()"
   ]
  },
  {
   "attachments": {},
   "cell_type": "markdown",
   "metadata": {},
   "source": [
    "## Saving the cleaned data"
   ]
  },
  {
   "cell_type": "code",
   "execution_count": 30,
   "metadata": {},
   "outputs": [],
   "source": [
    "leads_details_clean.to_csv('clean/leads_basic_details_clean.csv',index=False)\n",
    "no_interest_clean.to_csv('clean/leads_reasons_for_no_interest_clean.csv',index=False)\n",
    "interactions_clean.to_csv('clean/leads_interaction_details_clean.csv',index=False)\n",
    "demos_clean.to_csv('clean/leads_demo_watched_details_clean.csv',index=False)"
   ]
  }
 ],
 "metadata": {
  "kernelspec": {
   "display_name": "base",
   "language": "python",
   "name": "python3"
  },
  "language_info": {
   "codemirror_mode": {
    "name": "ipython",
    "version": 3
   },
   "file_extension": ".py",
   "mimetype": "text/x-python",
   "name": "python",
   "nbconvert_exporter": "python",
   "pygments_lexer": "ipython3",
   "version": "3.9.13"
  },
  "orig_nbformat": 4
 },
 "nbformat": 4,
 "nbformat_minor": 2
}
