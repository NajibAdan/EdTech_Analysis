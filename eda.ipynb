{
 "cells": [
  {
   "cell_type": "code",
   "execution_count": 243,
   "metadata": {},
   "outputs": [],
   "source": [
    "import pandas as pd \n",
    "import numpy as np \n",
    "import matplotlib.pyplot as plt \n",
    "import seaborn as sns "
   ]
  },
  {
   "cell_type": "code",
   "execution_count": 244,
   "metadata": {},
   "outputs": [
    {
     "data": {
      "text/html": [
       "<div>\n",
       "<style scoped>\n",
       "    .dataframe tbody tr th:only-of-type {\n",
       "        vertical-align: middle;\n",
       "    }\n",
       "\n",
       "    .dataframe tbody tr th {\n",
       "        vertical-align: top;\n",
       "    }\n",
       "\n",
       "    .dataframe thead th {\n",
       "        text-align: right;\n",
       "    }\n",
       "</style>\n",
       "<table border=\"1\" class=\"dataframe\">\n",
       "  <thead>\n",
       "    <tr style=\"text-align: right;\">\n",
       "      <th></th>\n",
       "      <th>jnr_sm_id</th>\n",
       "      <th>lead_id</th>\n",
       "      <th>lead_stage</th>\n",
       "      <th>call_done_date</th>\n",
       "      <th>call_status</th>\n",
       "      <th>call_reason</th>\n",
       "    </tr>\n",
       "  </thead>\n",
       "  <tbody>\n",
       "    <tr>\n",
       "      <th>0</th>\n",
       "      <td>JNR1001MG</td>\n",
       "      <td>USR1001</td>\n",
       "      <td>lead</td>\n",
       "      <td>1/2/2022</td>\n",
       "      <td>successful</td>\n",
       "      <td>lead_introduction</td>\n",
       "    </tr>\n",
       "    <tr>\n",
       "      <th>1</th>\n",
       "      <td>JNR1001MG</td>\n",
       "      <td>USR1001</td>\n",
       "      <td>lead</td>\n",
       "      <td>1/2/2022</td>\n",
       "      <td>successful</td>\n",
       "      <td>demo_schedule</td>\n",
       "    </tr>\n",
       "    <tr>\n",
       "      <th>2</th>\n",
       "      <td>JNR1001MG</td>\n",
       "      <td>USR1002</td>\n",
       "      <td>lead</td>\n",
       "      <td>1/3/2022</td>\n",
       "      <td>successful</td>\n",
       "      <td>lead_introduction</td>\n",
       "    </tr>\n",
       "    <tr>\n",
       "      <th>3</th>\n",
       "      <td>JNR1001MG</td>\n",
       "      <td>USR1002</td>\n",
       "      <td>lead</td>\n",
       "      <td>1/4/2022</td>\n",
       "      <td>successful</td>\n",
       "      <td>demo_schedule</td>\n",
       "    </tr>\n",
       "    <tr>\n",
       "      <th>4</th>\n",
       "      <td>JNR1001MG</td>\n",
       "      <td>USR1002</td>\n",
       "      <td>awareness</td>\n",
       "      <td>1/5/2022</td>\n",
       "      <td>successful</td>\n",
       "      <td>post_demo_followup</td>\n",
       "    </tr>\n",
       "    <tr>\n",
       "      <th>...</th>\n",
       "      <td>...</td>\n",
       "      <td>...</td>\n",
       "      <td>...</td>\n",
       "      <td>...</td>\n",
       "      <td>...</td>\n",
       "      <td>...</td>\n",
       "    </tr>\n",
       "    <tr>\n",
       "      <th>2187</th>\n",
       "      <td>JNR1001MG</td>\n",
       "      <td>USR1356</td>\n",
       "      <td>lead</td>\n",
       "      <td>2/21/2022</td>\n",
       "      <td>unsuccessful</td>\n",
       "      <td>lead_introduction</td>\n",
       "    </tr>\n",
       "    <tr>\n",
       "      <th>2188</th>\n",
       "      <td>JNR1001MG</td>\n",
       "      <td>USR1357</td>\n",
       "      <td>lead</td>\n",
       "      <td>1/8/2022</td>\n",
       "      <td>unsuccessful</td>\n",
       "      <td>lead_introduction</td>\n",
       "    </tr>\n",
       "    <tr>\n",
       "      <th>2189</th>\n",
       "      <td>JNR1001MG</td>\n",
       "      <td>USR1358</td>\n",
       "      <td>lead</td>\n",
       "      <td>1/12/2022</td>\n",
       "      <td>unsuccessful</td>\n",
       "      <td>lead_introduction</td>\n",
       "    </tr>\n",
       "    <tr>\n",
       "      <th>2190</th>\n",
       "      <td>JNR1001MG</td>\n",
       "      <td>USR1359</td>\n",
       "      <td>lead</td>\n",
       "      <td>1/22/2022</td>\n",
       "      <td>unsuccessful</td>\n",
       "      <td>lead_introduction</td>\n",
       "    </tr>\n",
       "    <tr>\n",
       "      <th>2191</th>\n",
       "      <td>JNR1001MG</td>\n",
       "      <td>USR1360</td>\n",
       "      <td>lead</td>\n",
       "      <td>2/21/2022</td>\n",
       "      <td>unsuccessful</td>\n",
       "      <td>lead_introduction</td>\n",
       "    </tr>\n",
       "  </tbody>\n",
       "</table>\n",
       "<p>2192 rows × 6 columns</p>\n",
       "</div>"
      ],
      "text/plain": [
       "      jnr_sm_id  lead_id lead_stage call_done_date   call_status  \\\n",
       "0     JNR1001MG  USR1001       lead       1/2/2022    successful   \n",
       "1     JNR1001MG  USR1001       lead       1/2/2022    successful   \n",
       "2     JNR1001MG  USR1002       lead       1/3/2022    successful   \n",
       "3     JNR1001MG  USR1002       lead       1/4/2022    successful   \n",
       "4     JNR1001MG  USR1002  awareness       1/5/2022    successful   \n",
       "...         ...      ...        ...            ...           ...   \n",
       "2187  JNR1001MG  USR1356       lead      2/21/2022  unsuccessful   \n",
       "2188  JNR1001MG  USR1357       lead       1/8/2022  unsuccessful   \n",
       "2189  JNR1001MG  USR1358       lead      1/12/2022  unsuccessful   \n",
       "2190  JNR1001MG  USR1359       lead      1/22/2022  unsuccessful   \n",
       "2191  JNR1001MG  USR1360       lead      2/21/2022  unsuccessful   \n",
       "\n",
       "             call_reason  \n",
       "0      lead_introduction  \n",
       "1          demo_schedule  \n",
       "2      lead_introduction  \n",
       "3          demo_schedule  \n",
       "4     post_demo_followup  \n",
       "...                  ...  \n",
       "2187   lead_introduction  \n",
       "2188   lead_introduction  \n",
       "2189   lead_introduction  \n",
       "2190   lead_introduction  \n",
       "2191   lead_introduction  \n",
       "\n",
       "[2192 rows x 6 columns]"
      ]
     },
     "execution_count": 244,
     "metadata": {},
     "output_type": "execute_result"
    }
   ],
   "source": [
    "interactions_df = pd.read_csv('leads_interaction_details.csv')\n",
    "interactions_df"
   ]
  },
  {
   "cell_type": "code",
   "execution_count": 245,
   "metadata": {},
   "outputs": [
    {
     "data": {
      "text/html": [
       "<div>\n",
       "<style scoped>\n",
       "    .dataframe tbody tr th:only-of-type {\n",
       "        vertical-align: middle;\n",
       "    }\n",
       "\n",
       "    .dataframe tbody tr th {\n",
       "        vertical-align: top;\n",
       "    }\n",
       "\n",
       "    .dataframe thead th {\n",
       "        text-align: right;\n",
       "    }\n",
       "</style>\n",
       "<table border=\"1\" class=\"dataframe\">\n",
       "  <thead>\n",
       "    <tr style=\"text-align: right;\">\n",
       "      <th></th>\n",
       "      <th>lead_id</th>\n",
       "      <th>age</th>\n",
       "      <th>gender</th>\n",
       "      <th>current_city</th>\n",
       "      <th>current_education</th>\n",
       "      <th>parent_occupation</th>\n",
       "      <th>lead_gen_source</th>\n",
       "    </tr>\n",
       "  </thead>\n",
       "  <tbody>\n",
       "    <tr>\n",
       "      <th>0</th>\n",
       "      <td>USR1001</td>\n",
       "      <td>16</td>\n",
       "      <td>FEMALE</td>\n",
       "      <td>Hyderabad</td>\n",
       "      <td>Intermediate</td>\n",
       "      <td>Private Employee</td>\n",
       "      <td>social_media</td>\n",
       "    </tr>\n",
       "    <tr>\n",
       "      <th>1</th>\n",
       "      <td>USR1002</td>\n",
       "      <td>20</td>\n",
       "      <td>MALE</td>\n",
       "      <td>Bengaluru</td>\n",
       "      <td>B.Tech</td>\n",
       "      <td>Business</td>\n",
       "      <td>user_referrals</td>\n",
       "    </tr>\n",
       "    <tr>\n",
       "      <th>2</th>\n",
       "      <td>USR1003</td>\n",
       "      <td>20</td>\n",
       "      <td>FEMALE</td>\n",
       "      <td>Visakhapatnam</td>\n",
       "      <td>B.Tech</td>\n",
       "      <td>Lawyer</td>\n",
       "      <td>user_referrals</td>\n",
       "    </tr>\n",
       "    <tr>\n",
       "      <th>3</th>\n",
       "      <td>USR1004</td>\n",
       "      <td>16</td>\n",
       "      <td>MALE</td>\n",
       "      <td>Mumbai</td>\n",
       "      <td>Intermediate</td>\n",
       "      <td>IT Employee</td>\n",
       "      <td>user_referrals</td>\n",
       "    </tr>\n",
       "    <tr>\n",
       "      <th>4</th>\n",
       "      <td>USR1005</td>\n",
       "      <td>16</td>\n",
       "      <td>MALE</td>\n",
       "      <td>Chennai</td>\n",
       "      <td>Intermediate</td>\n",
       "      <td>Government Employee</td>\n",
       "      <td>user_referrals</td>\n",
       "    </tr>\n",
       "    <tr>\n",
       "      <th>...</th>\n",
       "      <td>...</td>\n",
       "      <td>...</td>\n",
       "      <td>...</td>\n",
       "      <td>...</td>\n",
       "      <td>...</td>\n",
       "      <td>...</td>\n",
       "      <td>...</td>\n",
       "    </tr>\n",
       "    <tr>\n",
       "      <th>354</th>\n",
       "      <td>USR1355</td>\n",
       "      <td>24</td>\n",
       "      <td>FEMALE</td>\n",
       "      <td>Visakhapatnam</td>\n",
       "      <td>Looking for Job</td>\n",
       "      <td>Lawyer</td>\n",
       "      <td>social_media</td>\n",
       "    </tr>\n",
       "    <tr>\n",
       "      <th>355</th>\n",
       "      <td>USR1356</td>\n",
       "      <td>21</td>\n",
       "      <td>MALE</td>\n",
       "      <td>Mumbai</td>\n",
       "      <td>Degree</td>\n",
       "      <td>Government Employee</td>\n",
       "      <td>user_referrals</td>\n",
       "    </tr>\n",
       "    <tr>\n",
       "      <th>356</th>\n",
       "      <td>USR1357</td>\n",
       "      <td>22</td>\n",
       "      <td>MALE</td>\n",
       "      <td>Chennai</td>\n",
       "      <td>Looking for Job</td>\n",
       "      <td>Government Employee</td>\n",
       "      <td>website</td>\n",
       "    </tr>\n",
       "    <tr>\n",
       "      <th>358</th>\n",
       "      <td>USR1359</td>\n",
       "      <td>18</td>\n",
       "      <td>FEMALE</td>\n",
       "      <td>Mumbai</td>\n",
       "      <td>B.Tech</td>\n",
       "      <td>Government Employee</td>\n",
       "      <td>email_marketing</td>\n",
       "    </tr>\n",
       "    <tr>\n",
       "      <th>359</th>\n",
       "      <td>USR1360</td>\n",
       "      <td>16</td>\n",
       "      <td>MALE</td>\n",
       "      <td>Mumbai</td>\n",
       "      <td>Intermediate</td>\n",
       "      <td>Government Employee</td>\n",
       "      <td>social_media</td>\n",
       "    </tr>\n",
       "  </tbody>\n",
       "</table>\n",
       "<p>311 rows × 7 columns</p>\n",
       "</div>"
      ],
      "text/plain": [
       "     lead_id  age  gender   current_city current_education  \\\n",
       "0    USR1001   16  FEMALE      Hyderabad      Intermediate   \n",
       "1    USR1002   20    MALE      Bengaluru            B.Tech   \n",
       "2    USR1003   20  FEMALE  Visakhapatnam            B.Tech   \n",
       "3    USR1004   16    MALE         Mumbai      Intermediate   \n",
       "4    USR1005   16    MALE        Chennai      Intermediate   \n",
       "..       ...  ...     ...            ...               ...   \n",
       "354  USR1355   24  FEMALE  Visakhapatnam   Looking for Job   \n",
       "355  USR1356   21    MALE         Mumbai            Degree   \n",
       "356  USR1357   22    MALE        Chennai   Looking for Job   \n",
       "358  USR1359   18  FEMALE         Mumbai            B.Tech   \n",
       "359  USR1360   16    MALE         Mumbai      Intermediate   \n",
       "\n",
       "       parent_occupation  lead_gen_source  \n",
       "0       Private Employee     social_media  \n",
       "1               Business   user_referrals  \n",
       "2                 Lawyer   user_referrals  \n",
       "3            IT Employee   user_referrals  \n",
       "4    Government Employee   user_referrals  \n",
       "..                   ...              ...  \n",
       "354               Lawyer     social_media  \n",
       "355  Government Employee   user_referrals  \n",
       "356  Government Employee          website  \n",
       "358  Government Employee  email_marketing  \n",
       "359  Government Employee     social_media  \n",
       "\n",
       "[311 rows x 7 columns]"
      ]
     },
     "execution_count": 245,
     "metadata": {},
     "output_type": "execute_result"
    }
   ],
   "source": [
    "leads_df = pd.read_csv('leads_basic_details.csv')\n",
    "leads_df = leads_df.query(\"age < 25\")\n",
    "leads_df"
   ]
  },
  {
   "cell_type": "code",
   "execution_count": 246,
   "metadata": {},
   "outputs": [
    {
     "data": {
      "text/html": [
       "<div>\n",
       "<style scoped>\n",
       "    .dataframe tbody tr th:only-of-type {\n",
       "        vertical-align: middle;\n",
       "    }\n",
       "\n",
       "    .dataframe tbody tr th {\n",
       "        vertical-align: top;\n",
       "    }\n",
       "\n",
       "    .dataframe thead th {\n",
       "        text-align: right;\n",
       "    }\n",
       "</style>\n",
       "<table border=\"1\" class=\"dataframe\">\n",
       "  <thead>\n",
       "    <tr style=\"text-align: right;\">\n",
       "      <th></th>\n",
       "      <th>lead_id</th>\n",
       "      <th>demo_watched_date</th>\n",
       "      <th>language</th>\n",
       "      <th>watched_percentage</th>\n",
       "    </tr>\n",
       "  </thead>\n",
       "  <tbody>\n",
       "    <tr>\n",
       "      <th>0</th>\n",
       "      <td>USR1002</td>\n",
       "      <td>1/4/2022</td>\n",
       "      <td>Telugu</td>\n",
       "      <td>42</td>\n",
       "    </tr>\n",
       "    <tr>\n",
       "      <th>1</th>\n",
       "      <td>USR1003</td>\n",
       "      <td>1/7/2022</td>\n",
       "      <td>Telugu</td>\n",
       "      <td>81</td>\n",
       "    </tr>\n",
       "    <tr>\n",
       "      <th>2</th>\n",
       "      <td>USR1004</td>\n",
       "      <td>1/2/2022</td>\n",
       "      <td>Telugu</td>\n",
       "      <td>35</td>\n",
       "    </tr>\n",
       "    <tr>\n",
       "      <th>3</th>\n",
       "      <td>USR1005</td>\n",
       "      <td>1/3/2022</td>\n",
       "      <td>Hindi</td>\n",
       "      <td>38</td>\n",
       "    </tr>\n",
       "    <tr>\n",
       "      <th>4</th>\n",
       "      <td>USR1006</td>\n",
       "      <td>1/12/2022</td>\n",
       "      <td>Hindi</td>\n",
       "      <td>54</td>\n",
       "    </tr>\n",
       "    <tr>\n",
       "      <th>...</th>\n",
       "      <td>...</td>\n",
       "      <td>...</td>\n",
       "      <td>...</td>\n",
       "      <td>...</td>\n",
       "    </tr>\n",
       "    <tr>\n",
       "      <th>189</th>\n",
       "      <td>USR1317</td>\n",
       "      <td>2/25/2022</td>\n",
       "      <td>English</td>\n",
       "      <td>48</td>\n",
       "    </tr>\n",
       "    <tr>\n",
       "      <th>190</th>\n",
       "      <td>USR1318</td>\n",
       "      <td>2/25/2022</td>\n",
       "      <td>English</td>\n",
       "      <td>83</td>\n",
       "    </tr>\n",
       "    <tr>\n",
       "      <th>191</th>\n",
       "      <td>USR1319</td>\n",
       "      <td>2/28/2022</td>\n",
       "      <td>English</td>\n",
       "      <td>84</td>\n",
       "    </tr>\n",
       "    <tr>\n",
       "      <th>192</th>\n",
       "      <td>USR1343</td>\n",
       "      <td>1/25/2022</td>\n",
       "      <td>English</td>\n",
       "      <td>68</td>\n",
       "    </tr>\n",
       "    <tr>\n",
       "      <th>193</th>\n",
       "      <td>USR1348</td>\n",
       "      <td>2/27/2022</td>\n",
       "      <td>English</td>\n",
       "      <td>72</td>\n",
       "    </tr>\n",
       "  </tbody>\n",
       "</table>\n",
       "<p>192 rows × 4 columns</p>\n",
       "</div>"
      ],
      "text/plain": [
       "     lead_id demo_watched_date language  watched_percentage\n",
       "0    USR1002          1/4/2022   Telugu                  42\n",
       "1    USR1003          1/7/2022   Telugu                  81\n",
       "2    USR1004          1/2/2022   Telugu                  35\n",
       "3    USR1005          1/3/2022    Hindi                  38\n",
       "4    USR1006         1/12/2022    Hindi                  54\n",
       "..       ...               ...      ...                 ...\n",
       "189  USR1317         2/25/2022  English                  48\n",
       "190  USR1318         2/25/2022  English                  83\n",
       "191  USR1319         2/28/2022  English                  84\n",
       "192  USR1343         1/25/2022  English                  68\n",
       "193  USR1348         2/27/2022  English                  72\n",
       "\n",
       "[192 rows x 4 columns]"
      ]
     },
     "execution_count": 246,
     "metadata": {},
     "output_type": "execute_result"
    }
   ],
   "source": [
    "demos_df = pd.read_csv('leads_demo_watched_details.csv')\n",
    "demos_df = demos_df[demos_df.watched_percentage <= 100]\n",
    "demos_df"
   ]
  },
  {
   "cell_type": "code",
   "execution_count": 247,
   "metadata": {},
   "outputs": [],
   "source": [
    "awareness_stage = interactions_df.query(\"lead_stage == 'awareness'\")\n",
    "intro_end_ids = pd.merge(leads_df,awareness_stage,how='left',on='lead_id').query(\"lead_stage != 'awareness'\").lead_id.unique()"
   ]
  },
  {
   "cell_type": "code",
   "execution_count": 248,
   "metadata": {},
   "outputs": [],
   "source": [
    "intro_end = interactions_df[interactions_df.lead_id.isin(list(intro_end_ids))]"
   ]
  },
  {
   "cell_type": "code",
   "execution_count": 249,
   "metadata": {},
   "outputs": [
    {
     "data": {
      "text/plain": [
       "demo_not_attended    701\n",
       "lead_introduction    499\n",
       "demo_schedule        347\n",
       "Name: call_reason, dtype: int64"
      ]
     },
     "execution_count": 249,
     "metadata": {},
     "output_type": "execute_result"
    }
   ],
   "source": [
    "lead_stage = interactions_df.query(\"lead_stage == 'lead'\")\n",
    "lead_stage.call_reason.value_counts()"
   ]
  },
  {
   "cell_type": "code",
   "execution_count": 250,
   "metadata": {},
   "outputs": [
    {
     "data": {
      "text/plain": [
       "successful      329\n",
       "unsuccessful    170\n",
       "Name: call_status, dtype: int64"
      ]
     },
     "execution_count": 250,
     "metadata": {},
     "output_type": "execute_result"
    }
   ],
   "source": [
    "lead_introduction = lead_stage.query(\"call_reason == 'lead_introduction'\")\n",
    "lead_introduction.call_status.value_counts()"
   ]
  },
  {
   "cell_type": "code",
   "execution_count": 251,
   "metadata": {},
   "outputs": [
    {
     "data": {
      "text/plain": [
       "Can't afford                        99\n",
       "Wants offline classes               91\n",
       "Student not interested in domain    52\n",
       "No time for student                 38\n",
       "Will join in final year             14\n",
       "Name: reason, dtype: int64"
      ]
     },
     "execution_count": 251,
     "metadata": {},
     "output_type": "execute_result"
    }
   ],
   "source": [
    "no_interest_df = pd.read_csv('leads_reasons_for_no_interest.csv')\n",
    "no_interest_df['reason'] = no_interest_df[no_interest_df.columns[1:]].apply(lambda x: \"\".join(x.dropna()),axis=1)\n",
    "no_interest_df.loc[no_interest_df.reason == 'Cannot afford'] = \"Can't afford\"\n",
    "no_interest_df.reason.value_counts()"
   ]
  },
  {
   "cell_type": "code",
   "execution_count": 104,
   "metadata": {},
   "outputs": [],
   "source": [
    "unsucc_lead_intro = lead_introduction.query(\"call_status == 'unsuccessful'\")"
   ]
  },
  {
   "cell_type": "code",
   "execution_count": 114,
   "metadata": {},
   "outputs": [],
   "source": [
    "unsucc_lead_reasons = pd.merge(intro_end,no_interest_df,on='lead_id')\n",
    "unsucc_lead_reasons = unsucc_lead_reasons[['reasons_for_not_interested_in_demo']]"
   ]
  },
  {
   "cell_type": "code",
   "execution_count": 252,
   "metadata": {},
   "outputs": [
    {
     "data": {
      "image/png": "[encoded data removed]",
      "text/plain": [
       "<Figure size 640x480 with 1 Axes>"
      ]
     },
     "metadata": {},
     "output_type": "display_data"
    }
   ],
   "source": [
    "unsucc_lead_reasons = no_interest_df[no_interest_df.lead_id.isin(intro_end_ids)][['reasons_for_not_interested_in_demo']]\n",
    "sns.countplot(x='reasons_for_not_interested_in_demo',data=unsucc_lead_reasons)\n",
    "plt.xticks(rotation=90)\n",
    "plt.xlabel('Reasons for not being interested in the demo ')\n",
    "plt.ylabel('Number of leads');"
   ]
  },
  {
   "cell_type": "code",
   "execution_count": 387,
   "metadata": {},
   "outputs": [
    {
     "data": {
      "text/plain": [
       "(array([20., 36., 31., 38., 16.]),\n",
       " array([16. , 17.6, 19.2, 20.8, 22.4, 24. ]),\n",
       " <BarContainer object of 5 artists>)"
      ]
     },
     "execution_count": 387,
     "metadata": {},
     "output_type": "execute_result"
    },
    {
     "data": {
      "image/png": "[encoded data removed]",
      "text/plain": [
       "<Figure size 640x480 with 1 Axes>"
      ]
     },
     "metadata": {},
     "output_type": "display_data"
    }
   ],
   "source": [
    "intro_end_details = leads_df[leads_df.lead_id.isin(intro_end_ids)]\n",
    "plt.hist(data=intro_end_details,x='age',bins=5)"
   ]
  },
  {
   "cell_type": "code",
   "execution_count": 254,
   "metadata": {},
   "outputs": [
    {
     "data": {
      "text/plain": [
       "B.Tech             67\n",
       "Looking for Job    38\n",
       "Intermediate       20\n",
       "Degree             16\n",
       "Name: current_education, dtype: int64"
      ]
     },
     "execution_count": 254,
     "metadata": {},
     "output_type": "execute_result"
    }
   ],
   "source": [
    "intro_end_details.current_education.value_counts()"
   ]
  },
  {
   "cell_type": "code",
   "execution_count": 255,
   "metadata": {},
   "outputs": [
    {
     "data": {
      "text/plain": [
       "social_media       38\n",
       "user_referrals     31\n",
       "SEO                26\n",
       "email_marketing    24\n",
       "website            22\n",
       "Name: lead_gen_source, dtype: int64"
      ]
     },
     "execution_count": 255,
     "metadata": {},
     "output_type": "execute_result"
    }
   ],
   "source": [
    "intro_end_details.lead_gen_source.value_counts()"
   ]
  },
  {
   "cell_type": "code",
   "execution_count": 256,
   "metadata": {},
   "outputs": [
    {
     "data": {
      "text/plain": [
       "social_media       78\n",
       "email_marketing    63\n",
       "user_referrals     62\n",
       "SEO                56\n",
       "website            52\n",
       "Name: lead_gen_source, dtype: int64"
      ]
     },
     "execution_count": 256,
     "metadata": {},
     "output_type": "execute_result"
    }
   ],
   "source": [
    "leads_df.lead_gen_source.value_counts()"
   ]
  },
  {
   "cell_type": "code",
   "execution_count": 257,
   "metadata": {},
   "outputs": [
    {
     "data": {
      "text/plain": [
       "Visakhapatnam    71\n",
       "Hyderabad        70\n",
       "Kochi            56\n",
       "Bengaluru        42\n",
       "Mumbai           41\n",
       "Chennai          31\n",
       "Name: current_city, dtype: int64"
      ]
     },
     "execution_count": 257,
     "metadata": {},
     "output_type": "execute_result"
    }
   ],
   "source": [
    "leads_df.current_city.value_counts()"
   ]
  },
  {
   "attachments": {},
   "cell_type": "markdown",
   "metadata": {},
   "source": [
    "## Leads stopped at Awareness"
   ]
  },
  {
   "cell_type": "code",
   "execution_count": 258,
   "metadata": {},
   "outputs": [],
   "source": [
    "consider_stage = interactions_df.query(\"lead_stage == 'consideration'\")\n",
    "consider_end_ids = pd.merge(awareness_stage,consider_stage,how='left',on='lead_id').query(\"lead_stage_y != 'consideration'\").lead_id.unique()\n",
    "consider_end = interactions_df[interactions_df.lead_id.isin(consider_end_ids)]"
   ]
  },
  {
   "cell_type": "code",
   "execution_count": 259,
   "metadata": {},
   "outputs": [
    {
     "data": {
      "text/html": [
       "<div>\n",
       "<style scoped>\n",
       "    .dataframe tbody tr th:only-of-type {\n",
       "        vertical-align: middle;\n",
       "    }\n",
       "\n",
       "    .dataframe tbody tr th {\n",
       "        vertical-align: top;\n",
       "    }\n",
       "\n",
       "    .dataframe thead th {\n",
       "        text-align: right;\n",
       "    }\n",
       "</style>\n",
       "<table border=\"1\" class=\"dataframe\">\n",
       "  <thead>\n",
       "    <tr style=\"text-align: right;\">\n",
       "      <th></th>\n",
       "      <th>lead_id</th>\n",
       "      <th>reasons_for_not_interested_in_demo</th>\n",
       "      <th>reasons_for_not_interested_to_consider</th>\n",
       "      <th>reasons_for_not_interested_to_convert</th>\n",
       "      <th>reason</th>\n",
       "    </tr>\n",
       "  </thead>\n",
       "  <tbody>\n",
       "    <tr>\n",
       "      <th>1</th>\n",
       "      <td>USR1003</td>\n",
       "      <td>NaN</td>\n",
       "      <td>No time for student</td>\n",
       "      <td>NaN</td>\n",
       "      <td>No time for student</td>\n",
       "    </tr>\n",
       "    <tr>\n",
       "      <th>2</th>\n",
       "      <td>USR1004</td>\n",
       "      <td>NaN</td>\n",
       "      <td>Wants offline classes</td>\n",
       "      <td>NaN</td>\n",
       "      <td>Wants offline classes</td>\n",
       "    </tr>\n",
       "    <tr>\n",
       "      <th>3</th>\n",
       "      <td>USR1005</td>\n",
       "      <td>NaN</td>\n",
       "      <td>Can't afford</td>\n",
       "      <td>NaN</td>\n",
       "      <td>Can't afford</td>\n",
       "    </tr>\n",
       "    <tr>\n",
       "      <th>4</th>\n",
       "      <td>USR1006</td>\n",
       "      <td>NaN</td>\n",
       "      <td>Student not interested in domain</td>\n",
       "      <td>NaN</td>\n",
       "      <td>Student not interested in domain</td>\n",
       "    </tr>\n",
       "    <tr>\n",
       "      <th>5</th>\n",
       "      <td>USR1008</td>\n",
       "      <td>NaN</td>\n",
       "      <td>Will join in final year</td>\n",
       "      <td>NaN</td>\n",
       "      <td>Will join in final year</td>\n",
       "    </tr>\n",
       "    <tr>\n",
       "      <th>...</th>\n",
       "      <td>...</td>\n",
       "      <td>...</td>\n",
       "      <td>...</td>\n",
       "      <td>...</td>\n",
       "      <td>...</td>\n",
       "    </tr>\n",
       "    <tr>\n",
       "      <th>239</th>\n",
       "      <td>USR1298</td>\n",
       "      <td>NaN</td>\n",
       "      <td>Can't afford</td>\n",
       "      <td>NaN</td>\n",
       "      <td>Can't afford</td>\n",
       "    </tr>\n",
       "    <tr>\n",
       "      <th>248</th>\n",
       "      <td>USR1310</td>\n",
       "      <td>NaN</td>\n",
       "      <td>Student not interested in domain</td>\n",
       "      <td>NaN</td>\n",
       "      <td>Student not interested in domain</td>\n",
       "    </tr>\n",
       "    <tr>\n",
       "      <th>249</th>\n",
       "      <td>USR1315</td>\n",
       "      <td>NaN</td>\n",
       "      <td>Wants offline classes</td>\n",
       "      <td>NaN</td>\n",
       "      <td>Wants offline classes</td>\n",
       "    </tr>\n",
       "    <tr>\n",
       "      <th>251</th>\n",
       "      <td>USR1318</td>\n",
       "      <td>NaN</td>\n",
       "      <td>Wants offline classes</td>\n",
       "      <td>NaN</td>\n",
       "      <td>Wants offline classes</td>\n",
       "    </tr>\n",
       "    <tr>\n",
       "      <th>252</th>\n",
       "      <td>USR1319</td>\n",
       "      <td>NaN</td>\n",
       "      <td>Wants offline classes</td>\n",
       "      <td>NaN</td>\n",
       "      <td>Wants offline classes</td>\n",
       "    </tr>\n",
       "  </tbody>\n",
       "</table>\n",
       "<p>79 rows × 5 columns</p>\n",
       "</div>"
      ],
      "text/plain": [
       "     lead_id reasons_for_not_interested_in_demo  \\\n",
       "1    USR1003                                NaN   \n",
       "2    USR1004                                NaN   \n",
       "3    USR1005                                NaN   \n",
       "4    USR1006                                NaN   \n",
       "5    USR1008                                NaN   \n",
       "..       ...                                ...   \n",
       "239  USR1298                                NaN   \n",
       "248  USR1310                                NaN   \n",
       "249  USR1315                                NaN   \n",
       "251  USR1318                                NaN   \n",
       "252  USR1319                                NaN   \n",
       "\n",
       "    reasons_for_not_interested_to_consider  \\\n",
       "1                      No time for student   \n",
       "2                    Wants offline classes   \n",
       "3                             Can't afford   \n",
       "4         Student not interested in domain   \n",
       "5                  Will join in final year   \n",
       "..                                     ...   \n",
       "239                           Can't afford   \n",
       "248       Student not interested in domain   \n",
       "249                  Wants offline classes   \n",
       "251                  Wants offline classes   \n",
       "252                  Wants offline classes   \n",
       "\n",
       "    reasons_for_not_interested_to_convert                            reason  \n",
       "1                                     NaN               No time for student  \n",
       "2                                     NaN             Wants offline classes  \n",
       "3                                     NaN                      Can't afford  \n",
       "4                                     NaN  Student not interested in domain  \n",
       "5                                     NaN           Will join in final year  \n",
       "..                                    ...                               ...  \n",
       "239                                   NaN                      Can't afford  \n",
       "248                                   NaN  Student not interested in domain  \n",
       "249                                   NaN             Wants offline classes  \n",
       "251                                   NaN             Wants offline classes  \n",
       "252                                   NaN             Wants offline classes  \n",
       "\n",
       "[79 rows x 5 columns]"
      ]
     },
     "execution_count": 259,
     "metadata": {},
     "output_type": "execute_result"
    }
   ],
   "source": [
    "no_interest_df[no_interest_df.lead_id.isin(consider_end_ids)]"
   ]
  },
  {
   "cell_type": "code",
   "execution_count": 260,
   "metadata": {},
   "outputs": [
    {
     "data": {
      "image/png": "[encoded data removed]",
      "text/plain": [
       "<Figure size 640x480 with 1 Axes>"
      ]
     },
     "metadata": {},
     "output_type": "display_data"
    }
   ],
   "source": [
    "unsucc_lead_reasons = no_interest_df[no_interest_df.lead_id.isin(consider_end_ids)][['reasons_for_not_interested_to_consider']]\n",
    "sns.countplot(x='reasons_for_not_interested_to_consider',data=unsucc_lead_reasons)\n",
    "plt.xticks(rotation=90)\n",
    "plt.xlabel('Reasons for not being interested in the demo ')\n",
    "plt.ylabel('Number of leads');"
   ]
  },
  {
   "cell_type": "code",
   "execution_count": 388,
   "metadata": {},
   "outputs": [
    {
     "data": {
      "text/plain": [
       "(array([20., 36., 31., 38., 16.]),\n",
       " array([16. , 17.6, 19.2, 20.8, 22.4, 24. ]),\n",
       " <BarContainer object of 5 artists>)"
      ]
     },
     "execution_count": 388,
     "metadata": {},
     "output_type": "execute_result"
    },
    {
     "data": {
      "image/png": "[encoded data removed]",
      "text/plain": [
       "<Figure size 640x480 with 1 Axes>"
      ]
     },
     "metadata": {},
     "output_type": "display_data"
    }
   ],
   "source": [
    "consider_end_details = leads_df[leads_df.lead_id.isin(consider_end_ids)]\n",
    "plt.hist(data=intro_end_details,x='age',bins=5)"
   ]
  },
  {
   "cell_type": "code",
   "execution_count": 262,
   "metadata": {},
   "outputs": [
    {
     "data": {
      "text/plain": [
       "array([ 42,  81,  35,  38,  54,  52,  41,  50,  48,  44,  46,  51,  47,\n",
       "        40,  36, 100,   5,  53,   8,  10,  11,  14,  17,  20,  23,  55,\n",
       "        73,  26,  29,  32,  56,  59,  62,  60,  65,  70,  74,  75,  68,\n",
       "        85,  71,  86,  87,  88,  89,   2,  90,  91,  92,  77,  80,  63,\n",
       "        83,  25,   3,   4,  30,  45,  64,  37,  66,  67,  49,  57,  69,\n",
       "        61,  95,  15,  12,  13,  72,  19,  27,  21,  16,  76,  18,  79,\n",
       "        78,  22,  24,  28,  82,  84], dtype=int64)"
      ]
     },
     "execution_count": 262,
     "metadata": {},
     "output_type": "execute_result"
    }
   ],
   "source": [
    "demos_df.watched_percentage.unique()"
   ]
  },
  {
   "cell_type": "code",
   "execution_count": 263,
   "metadata": {},
   "outputs": [
    {
     "data": {
      "text/plain": [
       "count     78.000000\n",
       "mean      54.000000\n",
       "std       24.722354\n",
       "min        2.000000\n",
       "25%       38.000000\n",
       "50%       53.000000\n",
       "75%       75.000000\n",
       "max      100.000000\n",
       "Name: watched_percentage, dtype: float64"
      ]
     },
     "execution_count": 263,
     "metadata": {},
     "output_type": "execute_result"
    }
   ],
   "source": [
    "demos_df[demos_df.lead_id.isin(consider_end_ids)].watched_percentage.describe()"
   ]
  },
  {
   "cell_type": "code",
   "execution_count": 264,
   "metadata": {},
   "outputs": [
    {
     "data": {
      "text/plain": [
       "array([  0,  10,  20,  30,  40,  50,  60,  70,  80,  90, 100])"
      ]
     },
     "execution_count": 264,
     "metadata": {},
     "output_type": "execute_result"
    }
   ],
   "source": [
    "np.arange(0,100+2,10)"
   ]
  },
  {
   "cell_type": "code",
   "execution_count": 269,
   "metadata": {},
   "outputs": [
    {
     "data": {
      "text/plain": [
       "<AxesSubplot:ylabel='watched_percentage'>"
      ]
     },
     "execution_count": 269,
     "metadata": {},
     "output_type": "execute_result"
    },
    {
     "data": {
      "image/png": "[encoded data removed]",
      "text/plain": [
       "<Figure size 640x480 with 1 Axes>"
      ]
     },
     "metadata": {},
     "output_type": "display_data"
    }
   ],
   "source": [
    "sns.violinplot(y='watched_percentage',data=demos_df[demos_df.lead_id.isin(consider_end_ids)])"
   ]
  },
  {
   "cell_type": "code",
   "execution_count": 389,
   "metadata": {},
   "outputs": [
    {
     "data": {
      "text/plain": [
       "<AxesSubplot:ylabel='watched_percentage'>"
      ]
     },
     "execution_count": 389,
     "metadata": {},
     "output_type": "execute_result"
    },
    {
     "data": {
      "image/png": "[encoded data removed]",
      "text/plain": [
       "<Figure size 640x480 with 1 Axes>"
      ]
     },
     "metadata": {},
     "output_type": "display_data"
    }
   ],
   "source": [
    "sns.boxplot(y='watched_percentage',data=demos_df[demos_df.lead_id.isin(consider_end_ids)])"
   ]
  },
  {
   "cell_type": "code",
   "execution_count": 265,
   "metadata": {},
   "outputs": [
    {
     "data": {
      "image/png": "[encoded data removed]",
      "text/plain": [
       "<Figure size 640x480 with 1 Axes>"
      ]
     },
     "metadata": {},
     "output_type": "display_data"
    }
   ],
   "source": [
    "bins = np.arange(0,100+2,10)\n",
    "plt.hist(demos_df[demos_df.lead_id.isin(consider_end_ids)].watched_percentage,bins=bins)\n",
    "plt.xlabel('Percentage Watched')\n",
    "plt.ylabel('Count');"
   ]
  },
  {
   "cell_type": "code",
   "execution_count": 270,
   "metadata": {},
   "outputs": [
    {
     "data": {
      "text/html": [
       "<div>\n",
       "<style scoped>\n",
       "    .dataframe tbody tr th:only-of-type {\n",
       "        vertical-align: middle;\n",
       "    }\n",
       "\n",
       "    .dataframe tbody tr th {\n",
       "        vertical-align: top;\n",
       "    }\n",
       "\n",
       "    .dataframe thead th {\n",
       "        text-align: right;\n",
       "    }\n",
       "</style>\n",
       "<table border=\"1\" class=\"dataframe\">\n",
       "  <thead>\n",
       "    <tr style=\"text-align: right;\">\n",
       "      <th></th>\n",
       "      <th>lead_id</th>\n",
       "      <th>count</th>\n",
       "    </tr>\n",
       "  </thead>\n",
       "  <tbody>\n",
       "    <tr>\n",
       "      <th>0</th>\n",
       "      <td>USR1034</td>\n",
       "      <td>3</td>\n",
       "    </tr>\n",
       "    <tr>\n",
       "      <th>1</th>\n",
       "      <td>USR1004</td>\n",
       "      <td>3</td>\n",
       "    </tr>\n",
       "    <tr>\n",
       "      <th>2</th>\n",
       "      <td>USR1029</td>\n",
       "      <td>3</td>\n",
       "    </tr>\n",
       "    <tr>\n",
       "      <th>3</th>\n",
       "      <td>USR1026</td>\n",
       "      <td>3</td>\n",
       "    </tr>\n",
       "    <tr>\n",
       "      <th>4</th>\n",
       "      <td>USR1009</td>\n",
       "      <td>3</td>\n",
       "    </tr>\n",
       "    <tr>\n",
       "      <th>...</th>\n",
       "      <td>...</td>\n",
       "      <td>...</td>\n",
       "    </tr>\n",
       "    <tr>\n",
       "      <th>74</th>\n",
       "      <td>USR1150</td>\n",
       "      <td>7</td>\n",
       "    </tr>\n",
       "    <tr>\n",
       "      <th>75</th>\n",
       "      <td>USR1155</td>\n",
       "      <td>7</td>\n",
       "    </tr>\n",
       "    <tr>\n",
       "      <th>76</th>\n",
       "      <td>USR1163</td>\n",
       "      <td>7</td>\n",
       "    </tr>\n",
       "    <tr>\n",
       "      <th>77</th>\n",
       "      <td>USR1318</td>\n",
       "      <td>7</td>\n",
       "    </tr>\n",
       "    <tr>\n",
       "      <th>78</th>\n",
       "      <td>USR1095</td>\n",
       "      <td>8</td>\n",
       "    </tr>\n",
       "  </tbody>\n",
       "</table>\n",
       "<p>79 rows × 2 columns</p>\n",
       "</div>"
      ],
      "text/plain": [
       "    lead_id  count\n",
       "0   USR1034      3\n",
       "1   USR1004      3\n",
       "2   USR1029      3\n",
       "3   USR1026      3\n",
       "4   USR1009      3\n",
       "..      ...    ...\n",
       "74  USR1150      7\n",
       "75  USR1155      7\n",
       "76  USR1163      7\n",
       "77  USR1318      7\n",
       "78  USR1095      8\n",
       "\n",
       "[79 rows x 2 columns]"
      ]
     },
     "execution_count": 270,
     "metadata": {},
     "output_type": "execute_result"
    }
   ],
   "source": [
    "num_of_interactions = consider_end.lead_id.value_counts(ascending=True).reset_index(name='count')\n",
    "num_of_interactions.columns = ['lead_id','count']\n",
    "num_of_interactions"
   ]
  },
  {
   "cell_type": "code",
   "execution_count": 199,
   "metadata": {},
   "outputs": [
    {
     "data": {
      "text/plain": [
       "7    49\n",
       "4    11\n",
       "3     9\n",
       "5     6\n",
       "6     3\n",
       "8     1\n",
       "Name: count, dtype: int64"
      ]
     },
     "execution_count": 199,
     "metadata": {},
     "output_type": "execute_result"
    }
   ],
   "source": [
    "num_of_interactions['count'].value_counts()"
   ]
  },
  {
   "cell_type": "code",
   "execution_count": 271,
   "metadata": {},
   "outputs": [],
   "source": [
    "sales_man_df = pd.read_csv('sales_managers_assigned_leads_details.csv')"
   ]
  },
  {
   "cell_type": "code",
   "execution_count": 272,
   "metadata": {},
   "outputs": [],
   "source": [
    "high_num_of_interactions = num_of_interactions[num_of_interactions['count'] >= 7]\n",
    "sale_mng = pd.merge(high_num_of_interactions,sales_man_df,on='lead_id').sort_values(by=['cycle','snr_sm_id','jnr_sm_id'])"
   ]
  },
  {
   "attachments": {},
   "cell_type": "markdown",
   "metadata": {},
   "source": [
    "# Leads stopped at Consideration Stage"
   ]
  },
  {
   "cell_type": "code",
   "execution_count": 403,
   "metadata": {},
   "outputs": [],
   "source": [
    "conversion_stage = interactions_df.query(\"lead_stage == 'conversion'\")\n",
    "conversion_end_ids = pd.merge(consider_stage,conversion_stage,how='left',on='lead_id').query(\"lead_stage_y != 'conversion'\").lead_id.unique()\n",
    "conversion_end = interactions_df[interactions_df.lead_id.isin(conversion_end_ids)]"
   ]
  },
  {
   "cell_type": "code",
   "execution_count": 274,
   "metadata": {},
   "outputs": [
    {
     "data": {
      "text/html": [
       "<div>\n",
       "<style scoped>\n",
       "    .dataframe tbody tr th:only-of-type {\n",
       "        vertical-align: middle;\n",
       "    }\n",
       "\n",
       "    .dataframe tbody tr th {\n",
       "        vertical-align: top;\n",
       "    }\n",
       "\n",
       "    .dataframe thead th {\n",
       "        text-align: right;\n",
       "    }\n",
       "</style>\n",
       "<table border=\"1\" class=\"dataframe\">\n",
       "  <thead>\n",
       "    <tr style=\"text-align: right;\">\n",
       "      <th></th>\n",
       "      <th>lead_id</th>\n",
       "      <th>reasons_for_not_interested_in_demo</th>\n",
       "      <th>reasons_for_not_interested_to_consider</th>\n",
       "      <th>reasons_for_not_interested_to_convert</th>\n",
       "      <th>reason</th>\n",
       "    </tr>\n",
       "  </thead>\n",
       "  <tbody>\n",
       "    <tr>\n",
       "      <th>0</th>\n",
       "      <td>USR1001</td>\n",
       "      <td>No time for student</td>\n",
       "      <td>NaN</td>\n",
       "      <td>NaN</td>\n",
       "      <td>No time for student</td>\n",
       "    </tr>\n",
       "    <tr>\n",
       "      <th>1</th>\n",
       "      <td>USR1003</td>\n",
       "      <td>NaN</td>\n",
       "      <td>No time for student</td>\n",
       "      <td>NaN</td>\n",
       "      <td>No time for student</td>\n",
       "    </tr>\n",
       "    <tr>\n",
       "      <th>2</th>\n",
       "      <td>USR1004</td>\n",
       "      <td>NaN</td>\n",
       "      <td>Wants offline classes</td>\n",
       "      <td>NaN</td>\n",
       "      <td>Wants offline classes</td>\n",
       "    </tr>\n",
       "    <tr>\n",
       "      <th>3</th>\n",
       "      <td>USR1005</td>\n",
       "      <td>NaN</td>\n",
       "      <td>Can't afford</td>\n",
       "      <td>NaN</td>\n",
       "      <td>Can't afford</td>\n",
       "    </tr>\n",
       "    <tr>\n",
       "      <th>4</th>\n",
       "      <td>USR1006</td>\n",
       "      <td>NaN</td>\n",
       "      <td>Student not interested in domain</td>\n",
       "      <td>NaN</td>\n",
       "      <td>Student not interested in domain</td>\n",
       "    </tr>\n",
       "    <tr>\n",
       "      <th>...</th>\n",
       "      <td>...</td>\n",
       "      <td>...</td>\n",
       "      <td>...</td>\n",
       "      <td>...</td>\n",
       "      <td>...</td>\n",
       "    </tr>\n",
       "    <tr>\n",
       "      <th>289</th>\n",
       "      <td>Can't afford</td>\n",
       "      <td>Can't afford</td>\n",
       "      <td>Can't afford</td>\n",
       "      <td>Can't afford</td>\n",
       "      <td>Can't afford</td>\n",
       "    </tr>\n",
       "    <tr>\n",
       "      <th>290</th>\n",
       "      <td>Can't afford</td>\n",
       "      <td>Can't afford</td>\n",
       "      <td>Can't afford</td>\n",
       "      <td>Can't afford</td>\n",
       "      <td>Can't afford</td>\n",
       "    </tr>\n",
       "    <tr>\n",
       "      <th>291</th>\n",
       "      <td>USR1358</td>\n",
       "      <td>Wants offline classes</td>\n",
       "      <td>NaN</td>\n",
       "      <td>NaN</td>\n",
       "      <td>Wants offline classes</td>\n",
       "    </tr>\n",
       "    <tr>\n",
       "      <th>292</th>\n",
       "      <td>USR1359</td>\n",
       "      <td>Will join in final year</td>\n",
       "      <td>NaN</td>\n",
       "      <td>NaN</td>\n",
       "      <td>Will join in final year</td>\n",
       "    </tr>\n",
       "    <tr>\n",
       "      <th>293</th>\n",
       "      <td>USR1360</td>\n",
       "      <td>Will join in final year</td>\n",
       "      <td>NaN</td>\n",
       "      <td>NaN</td>\n",
       "      <td>Will join in final year</td>\n",
       "    </tr>\n",
       "  </tbody>\n",
       "</table>\n",
       "<p>294 rows × 5 columns</p>\n",
       "</div>"
      ],
      "text/plain": [
       "          lead_id reasons_for_not_interested_in_demo  \\\n",
       "0         USR1001                No time for student   \n",
       "1         USR1003                                NaN   \n",
       "2         USR1004                                NaN   \n",
       "3         USR1005                                NaN   \n",
       "4         USR1006                                NaN   \n",
       "..            ...                                ...   \n",
       "289  Can't afford                       Can't afford   \n",
       "290  Can't afford                       Can't afford   \n",
       "291       USR1358              Wants offline classes   \n",
       "292       USR1359            Will join in final year   \n",
       "293       USR1360            Will join in final year   \n",
       "\n",
       "    reasons_for_not_interested_to_consider  \\\n",
       "0                                      NaN   \n",
       "1                      No time for student   \n",
       "2                    Wants offline classes   \n",
       "3                             Can't afford   \n",
       "4         Student not interested in domain   \n",
       "..                                     ...   \n",
       "289                           Can't afford   \n",
       "290                           Can't afford   \n",
       "291                                    NaN   \n",
       "292                                    NaN   \n",
       "293                                    NaN   \n",
       "\n",
       "    reasons_for_not_interested_to_convert                            reason  \n",
       "0                                     NaN               No time for student  \n",
       "1                                     NaN               No time for student  \n",
       "2                                     NaN             Wants offline classes  \n",
       "3                                     NaN                      Can't afford  \n",
       "4                                     NaN  Student not interested in domain  \n",
       "..                                    ...                               ...  \n",
       "289                          Can't afford                      Can't afford  \n",
       "290                          Can't afford                      Can't afford  \n",
       "291                                   NaN             Wants offline classes  \n",
       "292                                   NaN           Will join in final year  \n",
       "293                                   NaN           Will join in final year  \n",
       "\n",
       "[294 rows x 5 columns]"
      ]
     },
     "execution_count": 274,
     "metadata": {},
     "output_type": "execute_result"
    }
   ],
   "source": [
    "no_interest_df"
   ]
  },
  {
   "cell_type": "code",
   "execution_count": 275,
   "metadata": {},
   "outputs": [
    {
     "data": {
      "image/png": "[encoded data removed]",
      "text/plain": [
       "<Figure size 640x480 with 1 Axes>"
      ]
     },
     "metadata": {},
     "output_type": "display_data"
    }
   ],
   "source": [
    "unsucc_lead_reasons = no_interest_df[no_interest_df.lead_id.isin(conversion_end_ids)][['reasons_for_not_interested_to_convert']]\n",
    "sns.countplot(x='reasons_for_not_interested_to_convert',data=unsucc_lead_reasons)\n",
    "plt.xticks(rotation=90)\n",
    "plt.xlabel('Reasons for not being interested in conversion')\n",
    "plt.ylabel('Number of leads');"
   ]
  },
  {
   "cell_type": "code",
   "execution_count": 279,
   "metadata": {},
   "outputs": [
    {
     "data": {
      "text/plain": [
       "<AxesSubplot:ylabel='watched_percentage'>"
      ]
     },
     "execution_count": 279,
     "metadata": {},
     "output_type": "execute_result"
    },
    {
     "data": {
      "image/png": "[encoded data removed]",
      "text/plain": [
       "<Figure size 640x480 with 1 Axes>"
      ]
     },
     "metadata": {},
     "output_type": "display_data"
    }
   ],
   "source": [
    "sns.boxplot(y='watched_percentage',data=demos_df[demos_df.lead_id.isin(conversion_end_ids)])"
   ]
  },
  {
   "cell_type": "code",
   "execution_count": 276,
   "metadata": {},
   "outputs": [
    {
     "data": {
      "image/png": "[encoded data removed]",
      "text/plain": [
       "<Figure size 640x480 with 1 Axes>"
      ]
     },
     "metadata": {},
     "output_type": "display_data"
    }
   ],
   "source": [
    "bins = np.arange(0,100+2,10)\n",
    "plt.hist(demos_df[demos_df.lead_id.isin(conversion_end_ids)].watched_percentage,bins=bins)\n",
    "plt.xlabel('Percentage Watched')\n",
    "plt.ylabel('Count');"
   ]
  },
  {
   "attachments": {},
   "cell_type": "markdown",
   "metadata": {},
   "source": [
    "# Looking at converted leads"
   ]
  },
  {
   "cell_type": "code",
   "execution_count": 291,
   "metadata": {},
   "outputs": [
    {
     "data": {
      "text/html": [
       "<div>\n",
       "<style scoped>\n",
       "    .dataframe tbody tr th:only-of-type {\n",
       "        vertical-align: middle;\n",
       "    }\n",
       "\n",
       "    .dataframe tbody tr th {\n",
       "        vertical-align: top;\n",
       "    }\n",
       "\n",
       "    .dataframe thead th {\n",
       "        text-align: right;\n",
       "    }\n",
       "</style>\n",
       "<table border=\"1\" class=\"dataframe\">\n",
       "  <thead>\n",
       "    <tr style=\"text-align: right;\">\n",
       "      <th></th>\n",
       "      <th>lead_id</th>\n",
       "      <th>age</th>\n",
       "      <th>gender</th>\n",
       "      <th>current_city</th>\n",
       "      <th>current_education</th>\n",
       "      <th>parent_occupation</th>\n",
       "      <th>lead_gen_source</th>\n",
       "      <th>jnr_sm_id</th>\n",
       "      <th>lead_stage</th>\n",
       "      <th>call_done_date</th>\n",
       "      <th>call_status</th>\n",
       "      <th>call_reason</th>\n",
       "    </tr>\n",
       "  </thead>\n",
       "  <tbody>\n",
       "    <tr>\n",
       "      <th>0</th>\n",
       "      <td>USR1002</td>\n",
       "      <td>20</td>\n",
       "      <td>MALE</td>\n",
       "      <td>Bengaluru</td>\n",
       "      <td>B.Tech</td>\n",
       "      <td>Business</td>\n",
       "      <td>user_referrals</td>\n",
       "      <td>JNR1001MG</td>\n",
       "      <td>conversion</td>\n",
       "      <td>1/7/2022</td>\n",
       "      <td>successful</td>\n",
       "      <td>successful_conversion</td>\n",
       "    </tr>\n",
       "    <tr>\n",
       "      <th>1</th>\n",
       "      <td>USR1007</td>\n",
       "      <td>16</td>\n",
       "      <td>FEMALE</td>\n",
       "      <td>Hyderabad</td>\n",
       "      <td>Intermediate</td>\n",
       "      <td>Professor/Faculty</td>\n",
       "      <td>social_media</td>\n",
       "      <td>JNR1001MG</td>\n",
       "      <td>conversion</td>\n",
       "      <td>1/14/2022</td>\n",
       "      <td>successful</td>\n",
       "      <td>successful_conversion</td>\n",
       "    </tr>\n",
       "    <tr>\n",
       "      <th>2</th>\n",
       "      <td>USR1011</td>\n",
       "      <td>20</td>\n",
       "      <td>FEMALE</td>\n",
       "      <td>Hyderabad</td>\n",
       "      <td>B.Tech</td>\n",
       "      <td>Private Employee</td>\n",
       "      <td>website</td>\n",
       "      <td>JNR1001MG</td>\n",
       "      <td>conversion</td>\n",
       "      <td>1/22/2022</td>\n",
       "      <td>successful</td>\n",
       "      <td>successful_conversion</td>\n",
       "    </tr>\n",
       "    <tr>\n",
       "      <th>3</th>\n",
       "      <td>USR1012</td>\n",
       "      <td>20</td>\n",
       "      <td>FEMALE</td>\n",
       "      <td>Hyderabad</td>\n",
       "      <td>B.Tech</td>\n",
       "      <td>Business</td>\n",
       "      <td>social_media</td>\n",
       "      <td>JNR1001MG</td>\n",
       "      <td>conversion</td>\n",
       "      <td>1/19/2022</td>\n",
       "      <td>successful</td>\n",
       "      <td>successful_conversion</td>\n",
       "    </tr>\n",
       "    <tr>\n",
       "      <th>4</th>\n",
       "      <td>USR1013</td>\n",
       "      <td>21</td>\n",
       "      <td>FEMALE</td>\n",
       "      <td>Hyderabad</td>\n",
       "      <td>Degree</td>\n",
       "      <td>Lawyer</td>\n",
       "      <td>SEO</td>\n",
       "      <td>JNR1001MG</td>\n",
       "      <td>conversion</td>\n",
       "      <td>1/21/2022</td>\n",
       "      <td>successful</td>\n",
       "      <td>successful_conversion</td>\n",
       "    </tr>\n",
       "  </tbody>\n",
       "</table>\n",
       "</div>"
      ],
      "text/plain": [
       "   lead_id  age  gender current_city current_education  parent_occupation  \\\n",
       "0  USR1002   20    MALE    Bengaluru            B.Tech           Business   \n",
       "1  USR1007   16  FEMALE    Hyderabad      Intermediate  Professor/Faculty   \n",
       "2  USR1011   20  FEMALE    Hyderabad            B.Tech   Private Employee   \n",
       "3  USR1012   20  FEMALE    Hyderabad            B.Tech           Business   \n",
       "4  USR1013   21  FEMALE    Hyderabad            Degree             Lawyer   \n",
       "\n",
       "  lead_gen_source  jnr_sm_id  lead_stage call_done_date call_status  \\\n",
       "0  user_referrals  JNR1001MG  conversion       1/7/2022  successful   \n",
       "1    social_media  JNR1001MG  conversion      1/14/2022  successful   \n",
       "2         website  JNR1001MG  conversion      1/22/2022  successful   \n",
       "3    social_media  JNR1001MG  conversion      1/19/2022  successful   \n",
       "4             SEO  JNR1001MG  conversion      1/21/2022  successful   \n",
       "\n",
       "             call_reason  \n",
       "0  successful_conversion  \n",
       "1  successful_conversion  \n",
       "2  successful_conversion  \n",
       "3  successful_conversion  \n",
       "4  successful_conversion  "
      ]
     },
     "execution_count": 291,
     "metadata": {},
     "output_type": "execute_result"
    }
   ],
   "source": [
    "converted_leads = pd.merge(leads_df,conversion_stage,on='lead_id')\n",
    "converted_leads.head()"
   ]
  },
  {
   "cell_type": "code",
   "execution_count": 293,
   "metadata": {},
   "outputs": [
    {
     "data": {
      "text/plain": [
       "<AxesSubplot:xlabel='lead_gen_source', ylabel='count'>"
      ]
     },
     "execution_count": 293,
     "metadata": {},
     "output_type": "execute_result"
    },
    {
     "data": {
      "image/png": "[encoded data removed]",
      "text/plain": [
       "<Figure size 640x480 with 1 Axes>"
      ]
     },
     "metadata": {},
     "output_type": "display_data"
    }
   ],
   "source": [
    "sns.countplot(x='lead_gen_source',data=converted_leads)"
   ]
  },
  {
   "cell_type": "code",
   "execution_count": 307,
   "metadata": {},
   "outputs": [
    {
     "data": {
      "text/plain": [
       "Business               0.064309\n",
       "Government Employee    0.048232\n",
       "Lawyer                 0.032154\n",
       "IT Employee            0.019293\n",
       "Professor/Faculty      0.009646\n",
       "Private Employee       0.006431\n",
       "Name: parent_occupation, dtype: float64"
      ]
     },
     "execution_count": 307,
     "metadata": {},
     "output_type": "execute_result"
    }
   ],
   "source": [
    "converted_leads.parent_occupation.value_counts() / leads_df.shape[0]"
   ]
  },
  {
   "cell_type": "code",
   "execution_count": 308,
   "metadata": {},
   "outputs": [
    {
     "data": {
      "text/plain": [
       "FEMALE    0.678571\n",
       "MALE      0.321429\n",
       "Name: gender, dtype: float64"
      ]
     },
     "execution_count": 308,
     "metadata": {},
     "output_type": "execute_result"
    }
   ],
   "source": [
    "converted_leads.gender.value_counts() / converted_leads.shape[0]"
   ]
  },
  {
   "cell_type": "code",
   "execution_count": 336,
   "metadata": {},
   "outputs": [
    {
     "data": {
      "text/plain": [
       "B.Tech             0.464286\n",
       "Looking for Job    0.250000\n",
       "Degree             0.214286\n",
       "Intermediate       0.071429\n",
       "Name: current_education, dtype: float64"
      ]
     },
     "execution_count": 336,
     "metadata": {},
     "output_type": "execute_result"
    }
   ],
   "source": [
    "converted_leads.current_education.value_counts() / converted_leads.shape[0]"
   ]
  },
  {
   "cell_type": "code",
   "execution_count": 391,
   "metadata": {},
   "outputs": [
    {
     "data": {
      "text/plain": [
       "Visakhapatnam    0.250000\n",
       "Hyderabad        0.232143\n",
       "Bengaluru        0.214286\n",
       "Kochi            0.142857\n",
       "Chennai          0.125000\n",
       "Mumbai           0.035714\n",
       "Name: current_city, dtype: float64"
      ]
     },
     "execution_count": 391,
     "metadata": {},
     "output_type": "execute_result"
    }
   ],
   "source": [
    "converted_leads.current_city.value_counts() / converted_leads.shape[0]"
   ]
  },
  {
   "cell_type": "code",
   "execution_count": 311,
   "metadata": {},
   "outputs": [
    {
     "data": {
      "text/plain": [
       "<AxesSubplot:ylabel='watched_percentage'>"
      ]
     },
     "execution_count": 311,
     "metadata": {},
     "output_type": "execute_result"
    },
    {
     "data": {
      "image/png": "[encoded data removed]",
      "text/plain": [
       "<Figure size 640x480 with 1 Axes>"
      ]
     },
     "metadata": {},
     "output_type": "display_data"
    }
   ],
   "source": [
    "converted_demos = pd.merge(demos_df,conversion_stage,on='lead_id')\n",
    "sns.boxplot(y='watched_percentage',data=converted_demos)"
   ]
  },
  {
   "cell_type": "code",
   "execution_count": 316,
   "metadata": {},
   "outputs": [
    {
     "data": {
      "text/plain": [
       "English    0.218750\n",
       "Telugu     0.088542\n",
       "Hindi      0.020833\n",
       "Name: language, dtype: float64"
      ]
     },
     "execution_count": 316,
     "metadata": {},
     "output_type": "execute_result"
    }
   ],
   "source": [
    "converted_demos.language.value_counts() / demos_df.shape[0]"
   ]
  },
  {
   "cell_type": "code",
   "execution_count": 315,
   "metadata": {},
   "outputs": [
    {
     "data": {
      "text/plain": [
       "English    0.578125\n",
       "Telugu     0.317708\n",
       "Hindi      0.104167\n",
       "Name: language, dtype: float64"
      ]
     },
     "execution_count": 315,
     "metadata": {},
     "output_type": "execute_result"
    }
   ],
   "source": [
    "demos_df.language.value_counts() / demos_df.shape[0]"
   ]
  },
  {
   "cell_type": "code",
   "execution_count": 329,
   "metadata": {},
   "outputs": [],
   "source": [
    "jnr_sm_mng_conv = pd.merge(sales_man_df,converted_leads,on=['lead_id','jnr_sm_id'])\n",
    "jnr_sm_mng_conv['days_taken'] = pd.to_datetime(jnr_sm_mng_conv.call_done_date) - pd.to_datetime(jnr_sm_mng_conv.assigned_date)"
   ]
  },
  {
   "cell_type": "code",
   "execution_count": 349,
   "metadata": {},
   "outputs": [
    {
     "data": {
      "text/plain": [
       "False"
      ]
     },
     "execution_count": 349,
     "metadata": {},
     "output_type": "execute_result"
    }
   ],
   "source": [
    "cant_afford = no_interest_df[no_interest_df['reason']==\"Can't afford\"]\n",
    "cant_afford_details = pd.merge(cant_afford,leads_df,on='lead_id')\n"
   ]
  },
  {
   "cell_type": "code",
   "execution_count": 356,
   "metadata": {},
   "outputs": [
    {
     "data": {
      "text/plain": [
       "Looking for Job    0.506329\n",
       "B.Tech             0.303797\n",
       "Degree             0.113924\n",
       "Intermediate       0.075949\n",
       "Name: current_education, dtype: float64"
      ]
     },
     "execution_count": 356,
     "metadata": {},
     "output_type": "execute_result"
    }
   ],
   "source": [
    "cant_afford_details.current_education.value_counts() / cant_afford_details.shape[0]"
   ]
  },
  {
   "cell_type": "code",
   "execution_count": 361,
   "metadata": {},
   "outputs": [
    {
     "data": {
      "text/plain": [
       "FEMALE    0.582278\n",
       "MALE      0.417722\n",
       "Name: gender, dtype: float64"
      ]
     },
     "execution_count": 361,
     "metadata": {},
     "output_type": "execute_result"
    }
   ],
   "source": [
    "cant_afford_details.gender.value_counts() / cant_afford_details.shape[0]"
   ]
  },
  {
   "cell_type": "code",
   "execution_count": 358,
   "metadata": {},
   "outputs": [
    {
     "data": {
      "text/plain": [
       "Government Employee    31\n",
       "IT Employee            19\n",
       "Business               18\n",
       "Lawyer                 11\n",
       "Name: parent_occupation, dtype: int64"
      ]
     },
     "execution_count": 358,
     "metadata": {},
     "output_type": "execute_result"
    }
   ],
   "source": [
    "cant_afford_details.parent_occupation.value_counts()"
   ]
  },
  {
   "cell_type": "code",
   "execution_count": 375,
   "metadata": {},
   "outputs": [
    {
     "data": {
      "text/plain": [
       "(array([ 6., 11., 13., 30., 19.]),\n",
       " array([16. , 17.6, 19.2, 20.8, 22.4, 24. ]),\n",
       " <BarContainer object of 5 artists>)"
      ]
     },
     "execution_count": 375,
     "metadata": {},
     "output_type": "execute_result"
    },
    {
     "data": {
      "image/png": "[encoded data removed]",
      "text/plain": [
       "<Figure size 640x480 with 1 Axes>"
      ]
     },
     "metadata": {},
     "output_type": "display_data"
    }
   ],
   "source": [
    "plt.hist(x='age',data=cant_afford_details,bins=5)"
   ]
  },
  {
   "cell_type": "code",
   "execution_count": 363,
   "metadata": {},
   "outputs": [
    {
     "data": {
      "text/plain": [
       "Government Employee    14\n",
       "IT Employee            12\n",
       "Business                9\n",
       "Lawyer                  5\n",
       "Name: parent_occupation, dtype: int64"
      ]
     },
     "execution_count": 363,
     "metadata": {},
     "output_type": "execute_result"
    }
   ],
   "source": [
    "looking_for_job = cant_afford_details[cant_afford_details.current_education == \"Looking for Job\"]\n",
    "looking_for_job.parent_occupation.value_counts()\n",
    "## maybe get their parents involved"
   ]
  },
  {
   "cell_type": "code",
   "execution_count": 366,
   "metadata": {},
   "outputs": [],
   "source": [
    "offline_class = no_interest_df[no_interest_df['reason']=='Wants offline classes']\n",
    "offline_class_details = pd.merge(leads_df,offline_class,on='lead_id')"
   ]
  },
  {
   "cell_type": "code",
   "execution_count": 393,
   "metadata": {},
   "outputs": [
    {
     "data": {
      "text/plain": [
       "Visakhapatnam    0.260870\n",
       "Mumbai           0.202899\n",
       "Kochi            0.188406\n",
       "Bengaluru        0.144928\n",
       "Hyderabad        0.130435\n",
       "Chennai          0.072464\n",
       "Name: current_city, dtype: float64"
      ]
     },
     "execution_count": 393,
     "metadata": {},
     "output_type": "execute_result"
    }
   ],
   "source": [
    "offline_class_details.current_city.value_counts() / offline_class_details.shape[0]\n",
    "## Maybe set up classes in this areas?"
   ]
  },
  {
   "cell_type": "code",
   "execution_count": 381,
   "metadata": {},
   "outputs": [
    {
     "data": {
      "text/plain": [
       "B.Tech             0.242424\n",
       "Degree             0.166667\n",
       "Intermediate       0.225000\n",
       "Looking for Job    0.030928\n",
       "Name: current_education, dtype: float64"
      ]
     },
     "execution_count": 381,
     "metadata": {},
     "output_type": "execute_result"
    }
   ],
   "source": [
    "no_interest_domain = no_interest_df[no_interest_df['reason']=='Student not interested in domain']\n",
    "no_interest_domain_details = pd.merge(leads_df,no_interest_domain,on='lead_id')\n",
    "no_interest_domain_details.current_education.value_counts() / leads_df.current_education.value_counts()\n",
    "## Maybe offer course that fall in the studen"
   ]
  },
  {
   "cell_type": "code",
   "execution_count": 386,
   "metadata": {},
   "outputs": [
    {
     "data": {
      "text/plain": [
       "(array([ 9., 17., 15.,  9.,  1.]),\n",
       " array([16. , 17.6, 19.2, 20.8, 22.4, 24. ]),\n",
       " <BarContainer object of 5 artists>)"
      ]
     },
     "execution_count": 386,
     "metadata": {},
     "output_type": "execute_result"
    },
    {
     "data": {
      "image/png": "[encoded data removed]",
      "text/plain": [
       "<Figure size 640x480 with 1 Axes>"
      ]
     },
     "metadata": {},
     "output_type": "display_data"
    }
   ],
   "source": [
    "plt.hist(x='age',data=no_interest_domain_details,bins=5)"
   ]
  },
  {
   "cell_type": "code",
   "execution_count": 400,
   "metadata": {},
   "outputs": [],
   "source": [
    "interactions_df['call_done_date'] = pd.to_datetime(interactions_df['call_done_date'])\n",
    "interactions_df['call_day_done'] = interactions_df['call_done_date'].dt.day_name()\n",
    "unsucc_calls = interactions_df[interactions_df.call_status == 'unsuccessful']\n",
    "succ_calls = interactions_df[interactions_df.call_status == 'successful']"
   ]
  },
  {
   "cell_type": "code",
   "execution_count": 399,
   "metadata": {},
   "outputs": [
    {
     "data": {
      "text/plain": [
       "<AxesSubplot:xlabel='call_day_done', ylabel='count'>"
      ]
     },
     "execution_count": 399,
     "metadata": {},
     "output_type": "execute_result"
    },
    {
     "data": {
      "image/png": "[encoded data removed]",
      "text/plain": [
       "<Figure size 640x480 with 1 Axes>"
      ]
     },
     "metadata": {},
     "output_type": "display_data"
    }
   ],
   "source": [
    "sns.countplot(x='call_day_done',data=unsucc_calls)"
   ]
  },
  {
   "cell_type": "code",
   "execution_count": 402,
   "metadata": {},
   "outputs": [
    {
     "data": {
      "text/plain": [
       "<AxesSubplot:xlabel='call_day_done', ylabel='count'>"
      ]
     },
     "execution_count": 402,
     "metadata": {},
     "output_type": "execute_result"
    },
    {
     "data": {
      "image/png": "[encoded data removed]",
      "text/plain": [
       "<Figure size 640x480 with 1 Axes>"
      ]
     },
     "metadata": {},
     "output_type": "display_data"
    }
   ],
   "source": [
    "sns.countplot(x='call_day_done',data=succ_calls,order=[\"Monday\",\"Tuesday\",\"Wednesday\",\"Thursday\",\"Friday\",\"Saturday\",\"Sunday\"])"
   ]
  },
  {
   "cell_type": "code",
   "execution_count": 406,
   "metadata": {},
   "outputs": [
    {
     "data": {
      "text/html": [
       "<div>\n",
       "<style scoped>\n",
       "    .dataframe tbody tr th:only-of-type {\n",
       "        vertical-align: middle;\n",
       "    }\n",
       "\n",
       "    .dataframe tbody tr th {\n",
       "        vertical-align: top;\n",
       "    }\n",
       "\n",
       "    .dataframe thead th {\n",
       "        text-align: right;\n",
       "    }\n",
       "</style>\n",
       "<table border=\"1\" class=\"dataframe\">\n",
       "  <thead>\n",
       "    <tr style=\"text-align: right;\">\n",
       "      <th></th>\n",
       "      <th>jnr_sm_id</th>\n",
       "      <th>lead_id</th>\n",
       "      <th>lead_stage</th>\n",
       "      <th>call_done_date</th>\n",
       "      <th>call_status</th>\n",
       "      <th>call_reason</th>\n",
       "      <th>call_day_done</th>\n",
       "    </tr>\n",
       "  </thead>\n",
       "  <tbody>\n",
       "    <tr>\n",
       "      <th>8</th>\n",
       "      <td>JNR1001MG</td>\n",
       "      <td>USR1002</td>\n",
       "      <td>consideration</td>\n",
       "      <td>2022-01-07</td>\n",
       "      <td>successful</td>\n",
       "      <td>followup_for_conversion</td>\n",
       "      <td>Friday</td>\n",
       "    </tr>\n",
       "    <tr>\n",
       "      <th>32</th>\n",
       "      <td>JNR1001MG</td>\n",
       "      <td>USR1007</td>\n",
       "      <td>consideration</td>\n",
       "      <td>2022-01-14</td>\n",
       "      <td>successful</td>\n",
       "      <td>followup_for_conversion</td>\n",
       "      <td>Friday</td>\n",
       "    </tr>\n",
       "    <tr>\n",
       "      <th>91</th>\n",
       "      <td>JNR1001MG</td>\n",
       "      <td>USR1017</td>\n",
       "      <td>consideration</td>\n",
       "      <td>2022-02-21</td>\n",
       "      <td>successful</td>\n",
       "      <td>followup_for_conversion</td>\n",
       "      <td>Monday</td>\n",
       "    </tr>\n",
       "    <tr>\n",
       "      <th>113</th>\n",
       "      <td>JNR1002MG</td>\n",
       "      <td>USR1022</td>\n",
       "      <td>consideration</td>\n",
       "      <td>2022-01-09</td>\n",
       "      <td>successful</td>\n",
       "      <td>followup_for_conversion</td>\n",
       "      <td>Sunday</td>\n",
       "    </tr>\n",
       "    <tr>\n",
       "      <th>122</th>\n",
       "      <td>JNR1002MG</td>\n",
       "      <td>USR1023</td>\n",
       "      <td>consideration</td>\n",
       "      <td>2022-01-03</td>\n",
       "      <td>successful</td>\n",
       "      <td>followup_for_conversion</td>\n",
       "      <td>Monday</td>\n",
       "    </tr>\n",
       "    <tr>\n",
       "      <th>...</th>\n",
       "      <td>...</td>\n",
       "      <td>...</td>\n",
       "      <td>...</td>\n",
       "      <td>...</td>\n",
       "      <td>...</td>\n",
       "      <td>...</td>\n",
       "      <td>...</td>\n",
       "    </tr>\n",
       "    <tr>\n",
       "      <th>2102</th>\n",
       "      <td>JNR1016MG</td>\n",
       "      <td>USR1318</td>\n",
       "      <td>lead</td>\n",
       "      <td>2022-02-25</td>\n",
       "      <td>successful</td>\n",
       "      <td>demo_not_attended</td>\n",
       "      <td>Friday</td>\n",
       "    </tr>\n",
       "    <tr>\n",
       "      <th>2103</th>\n",
       "      <td>JNR1016MG</td>\n",
       "      <td>USR1318</td>\n",
       "      <td>lead</td>\n",
       "      <td>2022-02-25</td>\n",
       "      <td>successful</td>\n",
       "      <td>demo_not_attended</td>\n",
       "      <td>Friday</td>\n",
       "    </tr>\n",
       "    <tr>\n",
       "      <th>2126</th>\n",
       "      <td>JNR1015MG</td>\n",
       "      <td>USR1324</td>\n",
       "      <td>lead</td>\n",
       "      <td>2022-01-02</td>\n",
       "      <td>unsuccessful</td>\n",
       "      <td>demo_schedule</td>\n",
       "      <td>Sunday</td>\n",
       "    </tr>\n",
       "    <tr>\n",
       "      <th>2128</th>\n",
       "      <td>JNR1001MG</td>\n",
       "      <td>USR1325</td>\n",
       "      <td>lead</td>\n",
       "      <td>2022-01-01</td>\n",
       "      <td>unsuccessful</td>\n",
       "      <td>lead_introduction</td>\n",
       "      <td>Saturday</td>\n",
       "    </tr>\n",
       "    <tr>\n",
       "      <th>2153</th>\n",
       "      <td>JNR1011MG</td>\n",
       "      <td>USR1335</td>\n",
       "      <td>lead</td>\n",
       "      <td>2022-01-09</td>\n",
       "      <td>successful</td>\n",
       "      <td>demo_not_attended</td>\n",
       "      <td>Sunday</td>\n",
       "    </tr>\n",
       "  </tbody>\n",
       "</table>\n",
       "<p>438 rows × 7 columns</p>\n",
       "</div>"
      ],
      "text/plain": [
       "      jnr_sm_id  lead_id     lead_stage call_done_date   call_status  \\\n",
       "8     JNR1001MG  USR1002  consideration     2022-01-07    successful   \n",
       "32    JNR1001MG  USR1007  consideration     2022-01-14    successful   \n",
       "91    JNR1001MG  USR1017  consideration     2022-02-21    successful   \n",
       "113   JNR1002MG  USR1022  consideration     2022-01-09    successful   \n",
       "122   JNR1002MG  USR1023  consideration     2022-01-03    successful   \n",
       "...         ...      ...            ...            ...           ...   \n",
       "2102  JNR1016MG  USR1318           lead     2022-02-25    successful   \n",
       "2103  JNR1016MG  USR1318           lead     2022-02-25    successful   \n",
       "2126  JNR1015MG  USR1324           lead     2022-01-02  unsuccessful   \n",
       "2128  JNR1001MG  USR1325           lead     2022-01-01  unsuccessful   \n",
       "2153  JNR1011MG  USR1335           lead     2022-01-09    successful   \n",
       "\n",
       "                  call_reason call_day_done  \n",
       "8     followup_for_conversion        Friday  \n",
       "32    followup_for_conversion        Friday  \n",
       "91    followup_for_conversion        Monday  \n",
       "113   followup_for_conversion        Sunday  \n",
       "122   followup_for_conversion        Monday  \n",
       "...                       ...           ...  \n",
       "2102        demo_not_attended        Friday  \n",
       "2103        demo_not_attended        Friday  \n",
       "2126            demo_schedule        Sunday  \n",
       "2128        lead_introduction      Saturday  \n",
       "2153        demo_not_attended        Sunday  \n",
       "\n",
       "[438 rows x 7 columns]"
      ]
     },
     "execution_count": 406,
     "metadata": {},
     "output_type": "execute_result"
    }
   ],
   "source": [
    "interactions_df[interactions_df.duplicated()]"
   ]
  },
  {
   "cell_type": "code",
   "execution_count": 417,
   "metadata": {},
   "outputs": [
    {
     "data": {
      "text/plain": [
       "438"
      ]
     },
     "execution_count": 417,
     "metadata": {},
     "output_type": "execute_result"
    }
   ],
   "source": [
    "no_interest_df."
   ]
  },
  {
   "cell_type": "code",
   "execution_count": 410,
   "metadata": {},
   "outputs": [
    {
     "data": {
      "text/plain": [
       "<AxesSubplot:ylabel='watched_percentage'>"
      ]
     },
     "execution_count": 410,
     "metadata": {},
     "output_type": "execute_result"
    },
    {
     "data": {
      "image/png": "[encoded data removed]",
      "text/plain": [
       "<Figure size 640x480 with 1 Axes>"
      ]
     },
     "metadata": {},
     "output_type": "display_data"
    }
   ],
   "source": [
    "sns.boxplot(y='watched_percentage',data=demos_df)"
   ]
  },
  {
   "cell_type": "code",
   "execution_count": 412,
   "metadata": {},
   "outputs": [
    {
     "data": {
      "text/plain": [
       "<AxesSubplot:xlabel='lead_gen_source', ylabel='count'>"
      ]
     },
     "execution_count": 412,
     "metadata": {},
     "output_type": "execute_result"
    },
    {
     "data": {
      "image/png": "[encoded data removed]",
      "text/plain": [
       "<Figure size 640x480 with 1 Axes>"
      ]
     },
     "metadata": {},
     "output_type": "display_data"
    }
   ],
   "source": [
    "sns.countplot(x='lead_gen_source',data=leads_df)"
   ]
  },
  {
   "cell_type": "code",
   "execution_count": 414,
   "metadata": {},
   "outputs": [
    {
     "data": {
      "text/plain": [
       "<AxesSubplot:xlabel='language', ylabel='watched_percentage'>"
      ]
     },
     "execution_count": 414,
     "metadata": {},
     "output_type": "execute_result"
    },
    {
     "data": {
      "image/png": "[encoded data removed]",
      "text/plain": [
       "<Figure size 640x480 with 1 Axes>"
      ]
     },
     "metadata": {},
     "output_type": "display_data"
    }
   ],
   "source": [
    "sns.boxplot(x='language',y='watched_percentage',data=demos_df)"
   ]
  },
  {
   "cell_type": "code",
   "execution_count": null,
   "metadata": {},
   "outputs": [],
   "source": [
    "demos_df.la"
   ]
  }
 ],
 "metadata": {
  "kernelspec": {
   "display_name": "base",
   "language": "python",
   "name": "python3"
  },
  "language_info": {
   "codemirror_mode": {
    "name": "ipython",
    "version": 3
   },
   "file_extension": ".py",
   "mimetype": "text/x-python",
   "name": "python",
   "nbconvert_exporter": "python",
   "pygments_lexer": "ipython3",
   "version": "3.9.13"
  },
  "orig_nbformat": 4
 },
 "nbformat": 4,
 "nbformat_minor": 2
}
